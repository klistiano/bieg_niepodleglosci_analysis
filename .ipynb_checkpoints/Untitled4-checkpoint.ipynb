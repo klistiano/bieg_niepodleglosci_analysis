{
 "cells": [
  {
   "cell_type": "markdown",
   "metadata": {},
   "source": [
    "# 3 Poznański Bieg Niepodległości"
   ]
  },
  {
   "cell_type": "markdown",
   "metadata": {},
   "source": [
    "In 3 Poznański Bieg Niepodległości took part 22542 participants. \n",
    "I decided to analyse this race and answer a few basic questions. \n",
    "<br> Web scraping using synchronous requests, in this case, was slow and inefficient. \n",
    "<br> After research, I decided to use asynchronous web-scraping with asyncio module. <br> Surprisingly this way of solving problem boosted my web-scraper and decreased waiting time from about 10/9 minutes to 3/2 minutes. \n",
    "\n",
    "Analysis's questions:\n",
    "\n",
    "> Is there any correlation beetwen\n",
    "\n",
    "> What is the average finish time (in minutes) for the participants?\n",
    "\n",
    "> Did the participants finish times follow a normal distribution? \n",
    "\n",
    "> What are differences between males and females results along various age groups?\n",
    "\n",
    "\n",
    "We can split this analysis into 4 main parts:\n",
    "\n",
    "* 1. Data extraction / web scraping\n",
    "* 2. Data cleaning\n",
    "* 3. Memory usage optimization\n",
    "* 4. Data analysis and visualisation"
   ]
  },
  {
   "cell_type": "code",
   "execution_count": 3,
   "metadata": {},
   "outputs": [],
   "source": [
    "# Importing Python's modules.\n",
    "import re\n",
    "import pandas as pd\n",
    "import numpy as np\n",
    "import seaborn as sns\n",
    "import matplotlib.pyplot as plt\n",
    "\n",
    "%matplotlib inline\n",
    "\n",
    "from urllib.request import urlopen\n",
    "from bs4 import BeautifulSoup\n",
    "import requests\n",
    "import time"
   ]
  },
  {
   "cell_type": "code",
   "execution_count": 4,
   "metadata": {},
   "outputs": [],
   "source": [
    "#URL with runners results during 3 Poznański Bieg Niepodległości.\n",
    "URL = 'https://enduhub.com/pl/wyniki/2018/11/11/bieganie/3-poznanski-bieg-niepodleglosci,46448/'"
   ]
  },
  {
   "cell_type": "markdown",
   "metadata": {},
   "source": [
    "## Web-Scraping with asyncio module"
   ]
  },
  {
   "cell_type": "markdown",
   "metadata": {},
   "source": [
    "We are going to get results from each page using Python's web-scraper.\n",
    "Requaierd modules:\n",
    "\n",
    "* Asyncio is the asynchronous IO library that was introduced in python 3.4. Asyncio uses event loops, coroutines, and tasks to minimize idle time. <br> It's quite complex, for more informations check:\n",
    "\n",
    " > https://asyncio.readthedocs.io/en/latest/\n",
    " \n",
    " >https://medium.com/@santhoshhari/efficient-web-scraping-with-pythons-asynchronous-programming-6b9e730f1ff7\n",
    "\n",
    "* Aiohttp creates HTTP client/server sessions for asyncio.\n",
    " "
   ]
  },
  {
   "cell_type": "code",
   "execution_count": 11,
   "metadata": {},
   "outputs": [],
   "source": [
    "# Importing asyncio's modules.\n",
    "import nest_asyncio\n",
    "nest_asyncio.apply()\n",
    "import asyncio\n",
    "import aiohttp\n",
    "\n",
    "\n",
    "async def fetch_url(session, url):\n",
    "    ''' This function fetches URL from the website that you want to scrape. '''\n",
    "    async with session.get(url, timeout=60*60) as response:\n",
    "        return await response.text()\n",
    "\n",
    "async def fetch_all_urls(session, urls, loop):\n",
    "    ''' This function fetches all URLs from the website that you want to scrape. '''\n",
    "    results = await asyncio.gather(*[fetch_url(session, url) for url in urls],\n",
    "    return_exceptions=True)\n",
    "    \n",
    "    return results\n",
    "\n",
    "def get_htmls(urls):\n",
    "    ''' This function takes in a list of URLs, returns a list with URLs as keys\n",
    "    and the HTML response returned by the web server as values.\n",
    "    \n",
    "    TCPConnector - to tweak or change transport layer of requests you can \n",
    "    pass a custom connector to ClientSession and family.\n",
    "    '''\n",
    "    if len(urls) > 1:\n",
    "        loop = asyncio.get_event_loop()\n",
    "        connector = aiohttp.TCPConnector(limit=10)\n",
    "        async with aiohttp.ClientSession(loop=loop, connector=connector) as session:\n",
    "            htmls = loop.run_until_complete(fetch_all_urls(session, urls, loop))\n",
    "            raw_result = list(htmls)\n",
    "    else:\n",
    "        headers = {'User-Agent': 'Mozilla/5.0 (Macintosh; Intel Mac OS X 10_11_5) AppleWebKit/537.36(KHTML, like Gecko) Chrome/50.0.2661.102 Safari/537.36'}\n",
    "        raw_result = requests.get(urls[0], headers=headers).text\n",
    "\n",
    "    return raw_result\n",
    "\n",
    "def make_page_links(base_url):\n",
    "    '''  This definition of function iterates over range of pages\n",
    "    on website (in this case 266 pages) and returns list of all URLs. \n",
    "    '''\n",
    "    pages = [base_url + '?page={}'.format(str(i)) for i in range(1,227)]\n",
    "    \n",
    "    return pages    "
   ]
  },
  {
   "cell_type": "markdown",
   "metadata": {},
   "source": [
    "## Making DataFrame"
   ]
  },
  {
   "cell_type": "markdown",
   "metadata": {},
   "source": [
    "My first idea was to do web-scraping using request and bs4 modules. Iteration over 226 pages took about 8-10 minutes.\n",
    "<br> It was too long, so I decided to read about some optimization. I found really interesting article about an asynchronous\n",
    "package called asyncio. \n",
    "<br> Using asynchronous web-scraping with asyncio module I saved up to 6 minutes (70 % of waiting time) durign scraping data from web."
   ]
  },
  {
   "cell_type": "code",
   "execution_count": 12,
   "metadata": {},
   "outputs": [
    {
     "name": "stdout",
     "output_type": "stream",
     "text": [
      "CPU times: user 814 ms, sys: 113 ms, total: 927 ms\n",
      "Wall time: 2min 31s\n"
     ]
    }
   ],
   "source": [
    "%%time\n",
    "url_list = make_page_links(URL)\n",
    "raw_result = get_htmls(url_list)"
   ]
  },
  {
   "cell_type": "code",
   "execution_count": 13,
   "metadata": {},
   "outputs": [
    {
     "data": {
      "text/plain": [
       "226"
      ]
     },
     "execution_count": 13,
     "metadata": {},
     "output_type": "execute_result"
    }
   ],
   "source": [
    "# Checking if we scraped all 226 pages.\n",
    "len(raw_result)"
   ]
  },
  {
   "cell_type": "markdown",
   "metadata": {},
   "source": [
    "We have our raw data. Now we need to extract from HTML parts like tables('tr', {'class' : 'row1 Zawody'}) and rows ('td').\n",
    "<br> Then we need to convert a result into pandas DataFrame to prepare it for data wrangling and cleaning.\n",
    "<br> In next step we will extract collumn names from first page on 'https://enduhub.com/pl/wyniki/2018/11/11/bieganie/3-poznanski-bieg-niepodleglosci,46448/'. <br> Finally we have to concat both objects and voilà our DataFrame is ready."
   ]
  },
  {
   "cell_type": "code",
   "execution_count": 14,
   "metadata": {},
   "outputs": [],
   "source": [
    "def make_table():\n",
    "    ''' This function returns DataFrame that contains all \n",
    "    results (rows) from 3 Poznański Bieg Niepodległości. \n",
    "    Let's get ready to wrangle this Frame! \n",
    "    '''   \n",
    "    list_rows = []\n",
    "    for result in raw_result:\n",
    "        content = BeautifulSoup(result, 'lxml').find_all('tr', {'class' : re.compile('row.*? Zawody')})\n",
    "        for row in content:\n",
    "            cells = row.find_all('td')\n",
    "            str_cells = str(cells) \n",
    "            clean_cells = re.compile('<.*?>') \n",
    "            raw_rows = re.sub(clean_cells, '',str_cells)\n",
    "            list_rows.append(raw_rows)\n",
    "            \n",
    "    return pd.DataFrame(list_rows)\n",
    "\n",
    "## If you don't want to use regex, you can try this:\n",
    "## clean_cells = BeautifulSoup(str_cells, 'html.parser').get_text()         "
   ]
  },
  {
   "cell_type": "code",
   "execution_count": 15,
   "metadata": {},
   "outputs": [
    {
     "data": {
      "text/html": [
       "<div>\n",
       "<style scoped>\n",
       "    .dataframe tbody tr th:only-of-type {\n",
       "        vertical-align: middle;\n",
       "    }\n",
       "\n",
       "    .dataframe tbody tr th {\n",
       "        vertical-align: top;\n",
       "    }\n",
       "\n",
       "    .dataframe thead th {\n",
       "        text-align: right;\n",
       "    }\n",
       "</style>\n",
       "<table border=\"1\" class=\"dataframe\">\n",
       "  <thead>\n",
       "    <tr style=\"text-align: right;\">\n",
       "      <th></th>\n",
       "      <th>0</th>\n",
       "    </tr>\n",
       "  </thead>\n",
       "  <tbody>\n",
       "    <tr>\n",
       "      <th>0</th>\n",
       "      <td>[#1, \\n, 1, 25000, Artur Kozłowski, Sieradz, P...</td>\n",
       "    </tr>\n",
       "    <tr>\n",
       "      <th>1</th>\n",
       "      <td>[#2, \\n, 2, 24999, Tomasz Szymkowiak, Września...</td>\n",
       "    </tr>\n",
       "    <tr>\n",
       "      <th>2</th>\n",
       "      <td>[#3, \\n, 3, 1858, Dawid Garski, Dąbie, POL, ML...</td>\n",
       "    </tr>\n",
       "  </tbody>\n",
       "</table>\n",
       "</div>"
      ],
      "text/plain": [
       "                                                   0\n",
       "0  [#1, \\n, 1, 25000, Artur Kozłowski, Sieradz, P...\n",
       "1  [#2, \\n, 2, 24999, Tomasz Szymkowiak, Września...\n",
       "2  [#3, \\n, 3, 1858, Dawid Garski, Dąbie, POL, ML..."
      ]
     },
     "execution_count": 15,
     "metadata": {},
     "output_type": "execute_result"
    }
   ],
   "source": [
    "df1 = make_table()\n",
    "df1.head(3)"
   ]
  },
  {
   "cell_type": "markdown",
   "metadata": {},
   "source": [
    "## Data Cleaning "
   ]
  },
  {
   "cell_type": "markdown",
   "metadata": {},
   "source": [
    "Fun part. It is important to be able to deal with messy data, whether that means missing values, inconsistent formatting, <br> malformed records, or nonsensical outliers. The web-scraping result, in this case, HTML is always full of tricky commas and characters. <br> It is the best practice resource for learning data wrangling. In the beginning, we need to create DataFrame with separate columns.  <br> To do this we'll use expand argument inside the split function. "
   ]
  },
  {
   "cell_type": "code",
   "execution_count": 1,
   "metadata": {},
   "outputs": [
    {
     "ename": "NameError",
     "evalue": "name 'df1' is not defined",
     "output_type": "error",
     "traceback": [
      "\u001b[0;31m---------------------------------------------------------------------------\u001b[0m",
      "\u001b[0;31mNameError\u001b[0m                                 Traceback (most recent call last)",
      "\u001b[0;32m<ipython-input-1-074c47c32fd6>\u001b[0m in \u001b[0;36m<module>\u001b[0;34m\u001b[0m\n\u001b[0;32m----> 1\u001b[0;31m \u001b[0mdf_ooo\u001b[0m \u001b[0;34m=\u001b[0m \u001b[0mdf1\u001b[0m\u001b[0;34m[\u001b[0m\u001b[0;36m0\u001b[0m\u001b[0;34m]\u001b[0m\u001b[0;34m.\u001b[0m\u001b[0mstr\u001b[0m\u001b[0;34m.\u001b[0m\u001b[0mreplace\u001b[0m\u001b[0;34m(\u001b[0m\u001b[0;34m', '\u001b[0m\u001b[0;34m,\u001b[0m \u001b[0;34m','\u001b[0m\u001b[0;34m)\u001b[0m\u001b[0;34m\u001b[0m\u001b[0m\n\u001b[0m",
      "\u001b[0;31mNameError\u001b[0m: name 'df1' is not defined"
     ]
    }
   ],
   "source": [
    "df_ooo = df1[0].str.replace(', ', ',')"
   ]
  },
  {
   "cell_type": "code",
   "execution_count": 17,
   "metadata": {},
   "outputs": [],
   "source": [
    "df_ooo = pd.DataFrame(df_ooo) "
   ]
  },
  {
   "cell_type": "code",
   "execution_count": 18,
   "metadata": {},
   "outputs": [],
   "source": [
    "df_ooo = df_ooo[:][0].str.split(',', expand=True)"
   ]
  },
  {
   "cell_type": "markdown",
   "metadata": {},
   "source": [
    "After an investigation, I found tricky comma that broke table structure. Some of the runners included a few Klub names during registration, I assume. \n",
    "<br> I created function that counts commas in single row compare it with proper value (16). \n",
    "<br>  If the value is equal to 17 or 18 function splits row, gets first Klub name and creates a row with 16 commas."
   ]
  },
  {
   "cell_type": "code",
   "execution_count": 19,
   "metadata": {},
   "outputs": [
    {
     "data": {
      "text/html": [
       "<div>\n",
       "<style scoped>\n",
       "    .dataframe tbody tr th:only-of-type {\n",
       "        vertical-align: middle;\n",
       "    }\n",
       "\n",
       "    .dataframe tbody tr th {\n",
       "        vertical-align: top;\n",
       "    }\n",
       "\n",
       "    .dataframe thead th {\n",
       "        text-align: right;\n",
       "    }\n",
       "</style>\n",
       "<table border=\"1\" class=\"dataframe\">\n",
       "  <thead>\n",
       "    <tr style=\"text-align: right;\">\n",
       "      <th></th>\n",
       "      <th>0</th>\n",
       "      <th>1</th>\n",
       "      <th>2</th>\n",
       "      <th>3</th>\n",
       "      <th>4</th>\n",
       "      <th>5</th>\n",
       "      <th>6</th>\n",
       "      <th>7</th>\n",
       "      <th>8</th>\n",
       "      <th>9</th>\n",
       "      <th>10</th>\n",
       "      <th>11</th>\n",
       "      <th>12</th>\n",
       "      <th>13</th>\n",
       "      <th>14</th>\n",
       "      <th>15</th>\n",
       "      <th>16</th>\n",
       "      <th>17</th>\n",
       "      <th>18</th>\n",
       "    </tr>\n",
       "  </thead>\n",
       "  <tbody>\n",
       "    <tr>\n",
       "      <th>0</th>\n",
       "      <td>[#1</td>\n",
       "      <td>\\n</td>\n",
       "      <td>1</td>\n",
       "      <td>25000</td>\n",
       "      <td>Artur Kozłowski</td>\n",
       "      <td>Sieradz</td>\n",
       "      <td>POL</td>\n",
       "      <td>Sanprobi Team</td>\n",
       "      <td>1985</td>\n",
       "      <td>M30</td>\n",
       "      <td>1</td>\n",
       "      <td>1</td>\n",
       "      <td>-</td>\n",
       "      <td>00:15:47</td>\n",
       "      <td>00:31:02</td>\n",
       "      <td>00:31:01]</td>\n",
       "      <td>None</td>\n",
       "      <td>None</td>\n",
       "      <td>None</td>\n",
       "    </tr>\n",
       "    <tr>\n",
       "      <th>1</th>\n",
       "      <td>[#2</td>\n",
       "      <td>\\n</td>\n",
       "      <td>2</td>\n",
       "      <td>24999</td>\n",
       "      <td>Tomasz Szymkowiak</td>\n",
       "      <td>Września</td>\n",
       "      <td>POL</td>\n",
       "      <td>Krispol Active Team Września</td>\n",
       "      <td>1983</td>\n",
       "      <td>M30</td>\n",
       "      <td>2</td>\n",
       "      <td>2</td>\n",
       "      <td>-</td>\n",
       "      <td>00:15:47</td>\n",
       "      <td>00:31:22</td>\n",
       "      <td>00:31:21]</td>\n",
       "      <td>None</td>\n",
       "      <td>None</td>\n",
       "      <td>None</td>\n",
       "    </tr>\n",
       "    <tr>\n",
       "      <th>2</th>\n",
       "      <td>[#3</td>\n",
       "      <td>\\n</td>\n",
       "      <td>3</td>\n",
       "      <td>1858</td>\n",
       "      <td>Dawid Garski</td>\n",
       "      <td>Dąbie</td>\n",
       "      <td>POL</td>\n",
       "      <td>MLKS Baszta Bytów</td>\n",
       "      <td>1995</td>\n",
       "      <td>M20</td>\n",
       "      <td>1</td>\n",
       "      <td>3</td>\n",
       "      <td>-</td>\n",
       "      <td>00:16:21</td>\n",
       "      <td>00:32:33</td>\n",
       "      <td>00:32:32]</td>\n",
       "      <td>None</td>\n",
       "      <td>None</td>\n",
       "      <td>None</td>\n",
       "    </tr>\n",
       "  </tbody>\n",
       "</table>\n",
       "</div>"
      ],
      "text/plain": [
       "    0   1  2      3                  4         5    6   \\\n",
       "0  [#1  \\n  1  25000    Artur Kozłowski   Sieradz  POL   \n",
       "1  [#2  \\n  2  24999  Tomasz Szymkowiak  Września  POL   \n",
       "2  [#3  \\n  3   1858       Dawid Garski     Dąbie  POL   \n",
       "\n",
       "                             7     8    9  10 11 12        13        14  \\\n",
       "0                 Sanprobi Team  1985  M30  1  1  -  00:15:47  00:31:02   \n",
       "1  Krispol Active Team Września  1983  M30  2  2  -  00:15:47  00:31:22   \n",
       "2             MLKS Baszta Bytów  1995  M20  1  3  -  00:16:21  00:32:33   \n",
       "\n",
       "          15    16    17    18  \n",
       "0  00:31:01]  None  None  None  \n",
       "1  00:31:21]  None  None  None  \n",
       "2  00:32:32]  None  None  None  "
      ]
     },
     "execution_count": 19,
     "metadata": {},
     "output_type": "execute_result"
    }
   ],
   "source": [
    "df_ooo.head(3)"
   ]
  },
  {
   "cell_type": "code",
   "execution_count": 21,
   "metadata": {},
   "outputs": [
    {
     "data": {
      "text/plain": [
       "MARATON LESZNO                 1\n",
       "bieg o kulach                  1\n",
       "Akademia Marynarki Wojennej    1\n",
       "WIDOCZNIE LEPSI                1\n",
       "                               1\n",
       "Name: 8, dtype: int64"
      ]
     },
     "execution_count": 21,
     "metadata": {},
     "output_type": "execute_result"
    }
   ],
   "source": [
    "df_ooo[8].value_counts().tail()"
   ]
  },
  {
   "cell_type": "code",
   "execution_count": 22,
   "metadata": {},
   "outputs": [
    {
     "name": "stdout",
     "output_type": "stream",
     "text": [
      "22542\n"
     ]
    }
   ],
   "source": [
    "print(len(df1))"
   ]
  },
  {
   "cell_type": "code",
   "execution_count": 23,
   "metadata": {},
   "outputs": [],
   "source": [
    "def tricky_comma(row):\n",
    "    ''' This function splits row if there are more than 16 comas\n",
    "    and creates right value.\n",
    "    '''\n",
    "    if row.count(',') == 16:\n",
    "        return row.split(',')[:7][:] + row.split(',')[8:][:]\n",
    "    elif row.count(',') == 17:\n",
    "        return row.split(',')[:7][:] + row.split(',')[9:][:]\n",
    "    elif row.count(',') == 18:\n",
    "        return row.split(',')[:7][:] + row.split(',')[10:][:]\n",
    "    else:\n",
    "        return row"
   ]
  },
  {
   "cell_type": "code",
   "execution_count": 24,
   "metadata": {},
   "outputs": [],
   "source": [
    "df2 = df1[0].apply(tricky_comma)"
   ]
  },
  {
   "cell_type": "code",
   "execution_count": 25,
   "metadata": {},
   "outputs": [],
   "source": [
    "df2 = pd.DataFrame(df2)"
   ]
  },
  {
   "cell_type": "code",
   "execution_count": 26,
   "metadata": {},
   "outputs": [],
   "source": [
    "df3 = df2[0].str.replace(', ', ',')"
   ]
  },
  {
   "cell_type": "code",
   "execution_count": 27,
   "metadata": {},
   "outputs": [],
   "source": [
    "df4 = pd.DataFrame(df3)[0].str.split(',' , expand=True)"
   ]
  },
  {
   "cell_type": "code",
   "execution_count": 28,
   "metadata": {},
   "outputs": [
    {
     "data": {
      "text/html": [
       "<div>\n",
       "<style scoped>\n",
       "    .dataframe tbody tr th:only-of-type {\n",
       "        vertical-align: middle;\n",
       "    }\n",
       "\n",
       "    .dataframe tbody tr th {\n",
       "        vertical-align: top;\n",
       "    }\n",
       "\n",
       "    .dataframe thead th {\n",
       "        text-align: right;\n",
       "    }\n",
       "</style>\n",
       "<table border=\"1\" class=\"dataframe\">\n",
       "  <thead>\n",
       "    <tr style=\"text-align: right;\">\n",
       "      <th></th>\n",
       "      <th>0</th>\n",
       "      <th>1</th>\n",
       "      <th>2</th>\n",
       "      <th>3</th>\n",
       "      <th>4</th>\n",
       "      <th>5</th>\n",
       "      <th>6</th>\n",
       "      <th>7</th>\n",
       "      <th>8</th>\n",
       "      <th>9</th>\n",
       "      <th>10</th>\n",
       "      <th>11</th>\n",
       "      <th>12</th>\n",
       "      <th>13</th>\n",
       "      <th>14</th>\n",
       "      <th>15</th>\n",
       "    </tr>\n",
       "  </thead>\n",
       "  <tbody>\n",
       "    <tr>\n",
       "      <th>0</th>\n",
       "      <td>[#1</td>\n",
       "      <td>\\n</td>\n",
       "      <td>1</td>\n",
       "      <td>25000</td>\n",
       "      <td>Artur Kozłowski</td>\n",
       "      <td>Sieradz</td>\n",
       "      <td>POL</td>\n",
       "      <td>Sanprobi Team</td>\n",
       "      <td>1985</td>\n",
       "      <td>M30</td>\n",
       "      <td>1</td>\n",
       "      <td>1</td>\n",
       "      <td>-</td>\n",
       "      <td>00:15:47</td>\n",
       "      <td>00:31:02</td>\n",
       "      <td>00:31:01]</td>\n",
       "    </tr>\n",
       "    <tr>\n",
       "      <th>1</th>\n",
       "      <td>[#2</td>\n",
       "      <td>\\n</td>\n",
       "      <td>2</td>\n",
       "      <td>24999</td>\n",
       "      <td>Tomasz Szymkowiak</td>\n",
       "      <td>Września</td>\n",
       "      <td>POL</td>\n",
       "      <td>Krispol Active Team Września</td>\n",
       "      <td>1983</td>\n",
       "      <td>M30</td>\n",
       "      <td>2</td>\n",
       "      <td>2</td>\n",
       "      <td>-</td>\n",
       "      <td>00:15:47</td>\n",
       "      <td>00:31:22</td>\n",
       "      <td>00:31:21]</td>\n",
       "    </tr>\n",
       "    <tr>\n",
       "      <th>2</th>\n",
       "      <td>[#3</td>\n",
       "      <td>\\n</td>\n",
       "      <td>3</td>\n",
       "      <td>1858</td>\n",
       "      <td>Dawid Garski</td>\n",
       "      <td>Dąbie</td>\n",
       "      <td>POL</td>\n",
       "      <td>MLKS Baszta Bytów</td>\n",
       "      <td>1995</td>\n",
       "      <td>M20</td>\n",
       "      <td>1</td>\n",
       "      <td>3</td>\n",
       "      <td>-</td>\n",
       "      <td>00:16:21</td>\n",
       "      <td>00:32:33</td>\n",
       "      <td>00:32:32]</td>\n",
       "    </tr>\n",
       "  </tbody>\n",
       "</table>\n",
       "</div>"
      ],
      "text/plain": [
       "    0   1  2      3                  4         5    6   \\\n",
       "0  [#1  \\n  1  25000    Artur Kozłowski   Sieradz  POL   \n",
       "1  [#2  \\n  2  24999  Tomasz Szymkowiak  Września  POL   \n",
       "2  [#3  \\n  3   1858       Dawid Garski     Dąbie  POL   \n",
       "\n",
       "                             7     8    9  10 11 12        13        14  \\\n",
       "0                 Sanprobi Team  1985  M30  1  1  -  00:15:47  00:31:02   \n",
       "1  Krispol Active Team Września  1983  M30  2  2  -  00:15:47  00:31:22   \n",
       "2             MLKS Baszta Bytów  1995  M20  1  3  -  00:16:21  00:32:33   \n",
       "\n",
       "          15  \n",
       "0  00:31:01]  \n",
       "1  00:31:21]  \n",
       "2  00:32:32]  "
      ]
     },
     "execution_count": 28,
     "metadata": {},
     "output_type": "execute_result"
    }
   ],
   "source": [
    "df4.head(3)"
   ]
  },
  {
   "cell_type": "markdown",
   "metadata": {},
   "source": [
    "Cleaning proces includes:\n",
    "\n",
    "* Dropping unnecessary characters like '[]#'\n",
    "* Creating columns names\n",
    "* Renaming columns\n",
    "* Dropping unnecessary columns in a DataFrame\n",
    "* Reseting the table's index\n",
    "* Using capitalize() function on columns"
   ]
  },
  {
   "cell_type": "code",
   "execution_count": 29,
   "metadata": {},
   "outputs": [],
   "source": [
    "df4[0] = df4[0].str.strip('[]#')\n",
    "df4[15] = df4[15].str.strip('[]')"
   ]
  },
  {
   "cell_type": "code",
   "execution_count": 30,
   "metadata": {},
   "outputs": [
    {
     "data": {
      "text/html": [
       "<div>\n",
       "<style scoped>\n",
       "    .dataframe tbody tr th:only-of-type {\n",
       "        vertical-align: middle;\n",
       "    }\n",
       "\n",
       "    .dataframe tbody tr th {\n",
       "        vertical-align: top;\n",
       "    }\n",
       "\n",
       "    .dataframe thead th {\n",
       "        text-align: right;\n",
       "    }\n",
       "</style>\n",
       "<table border=\"1\" class=\"dataframe\">\n",
       "  <thead>\n",
       "    <tr style=\"text-align: right;\">\n",
       "      <th></th>\n",
       "      <th>0</th>\n",
       "      <th>1</th>\n",
       "      <th>2</th>\n",
       "      <th>3</th>\n",
       "      <th>4</th>\n",
       "      <th>5</th>\n",
       "      <th>6</th>\n",
       "      <th>7</th>\n",
       "      <th>8</th>\n",
       "      <th>9</th>\n",
       "      <th>10</th>\n",
       "      <th>11</th>\n",
       "      <th>12</th>\n",
       "      <th>13</th>\n",
       "      <th>14</th>\n",
       "      <th>15</th>\n",
       "    </tr>\n",
       "  </thead>\n",
       "  <tbody>\n",
       "    <tr>\n",
       "      <th>0</th>\n",
       "      <td>1</td>\n",
       "      <td>\\n</td>\n",
       "      <td>1</td>\n",
       "      <td>25000</td>\n",
       "      <td>Artur Kozłowski</td>\n",
       "      <td>Sieradz</td>\n",
       "      <td>POL</td>\n",
       "      <td>Sanprobi Team</td>\n",
       "      <td>1985</td>\n",
       "      <td>M30</td>\n",
       "      <td>1</td>\n",
       "      <td>1</td>\n",
       "      <td>-</td>\n",
       "      <td>00:15:47</td>\n",
       "      <td>00:31:02</td>\n",
       "      <td>00:31:01</td>\n",
       "    </tr>\n",
       "    <tr>\n",
       "      <th>1</th>\n",
       "      <td>2</td>\n",
       "      <td>\\n</td>\n",
       "      <td>2</td>\n",
       "      <td>24999</td>\n",
       "      <td>Tomasz Szymkowiak</td>\n",
       "      <td>Września</td>\n",
       "      <td>POL</td>\n",
       "      <td>Krispol Active Team Września</td>\n",
       "      <td>1983</td>\n",
       "      <td>M30</td>\n",
       "      <td>2</td>\n",
       "      <td>2</td>\n",
       "      <td>-</td>\n",
       "      <td>00:15:47</td>\n",
       "      <td>00:31:22</td>\n",
       "      <td>00:31:21</td>\n",
       "    </tr>\n",
       "    <tr>\n",
       "      <th>2</th>\n",
       "      <td>3</td>\n",
       "      <td>\\n</td>\n",
       "      <td>3</td>\n",
       "      <td>1858</td>\n",
       "      <td>Dawid Garski</td>\n",
       "      <td>Dąbie</td>\n",
       "      <td>POL</td>\n",
       "      <td>MLKS Baszta Bytów</td>\n",
       "      <td>1995</td>\n",
       "      <td>M20</td>\n",
       "      <td>1</td>\n",
       "      <td>3</td>\n",
       "      <td>-</td>\n",
       "      <td>00:16:21</td>\n",
       "      <td>00:32:33</td>\n",
       "      <td>00:32:32</td>\n",
       "    </tr>\n",
       "  </tbody>\n",
       "</table>\n",
       "</div>"
      ],
      "text/plain": [
       "  0   1  2      3                  4         5    6   \\\n",
       "0  1  \\n  1  25000    Artur Kozłowski   Sieradz  POL   \n",
       "1  2  \\n  2  24999  Tomasz Szymkowiak  Września  POL   \n",
       "2  3  \\n  3   1858       Dawid Garski     Dąbie  POL   \n",
       "\n",
       "                             7     8    9  10 11 12        13        14  \\\n",
       "0                 Sanprobi Team  1985  M30  1  1  -  00:15:47  00:31:02   \n",
       "1  Krispol Active Team Września  1983  M30  2  2  -  00:15:47  00:31:22   \n",
       "2             MLKS Baszta Bytów  1995  M20  1  3  -  00:16:21  00:32:33   \n",
       "\n",
       "         15  \n",
       "0  00:31:01  \n",
       "1  00:31:21  \n",
       "2  00:32:32  "
      ]
     },
     "execution_count": 30,
     "metadata": {},
     "output_type": "execute_result"
    }
   ],
   "source": [
    "df4.head(3)"
   ]
  },
  {
   "cell_type": "code",
   "execution_count": 36,
   "metadata": {},
   "outputs": [],
   "source": [
    "def get_page(URL):\n",
    "    '''  This function gets 1 argument and return\n",
    "    BeautifulSoup object containing content of the page.    \n",
    "    url - This is the url of website that you want to scrape.\n",
    "    '''\n",
    "    try:\n",
    "        req = urlopen(URL)\n",
    "    except requests.exceptions.RequestException:\n",
    "        return None\n",
    "    \n",
    "    return BeautifulSoup(req.read(), 'lxml')\n",
    "\n",
    "def get_col(URL):\n",
    "    ''' This function gets 1 argument and return\n",
    "    DataFrame containing raw headers of the socre table.    \n",
    "    url - This is the url of website that you want to scrape.\n",
    "    '''\n",
    "    clean_headers = []\n",
    "    page = get_page(URL)\n",
    "    column_names = page.find_all('th')\n",
    "    col_str = str(column_names)\n",
    "    clean_headers.append(BeautifulSoup(col_str, 'lxml').get_text())\n",
    "    \n",
    "    return pd.DataFrame(clean_headers)"
   ]
  },
  {
   "cell_type": "code",
   "execution_count": 37,
   "metadata": {},
   "outputs": [
    {
     "data": {
      "text/html": [
       "<div>\n",
       "<style scoped>\n",
       "    .dataframe tbody tr th:only-of-type {\n",
       "        vertical-align: middle;\n",
       "    }\n",
       "\n",
       "    .dataframe tbody tr th {\n",
       "        vertical-align: top;\n",
       "    }\n",
       "\n",
       "    .dataframe thead th {\n",
       "        text-align: right;\n",
       "    }\n",
       "</style>\n",
       "<table border=\"1\" class=\"dataframe\">\n",
       "  <thead>\n",
       "    <tr style=\"text-align: right;\">\n",
       "      <th></th>\n",
       "      <th>0</th>\n",
       "    </tr>\n",
       "  </thead>\n",
       "  <tbody>\n",
       "    <tr>\n",
       "      <th>0</th>\n",
       "      <td>[\\n\\n\\n\\n, \\n\\n\\n\\n\\n\\n\\n\\n\\n\\n, \\n\\n\\n\\n\\nMsc...</td>\n",
       "    </tr>\n",
       "  </tbody>\n",
       "</table>\n",
       "</div>"
      ],
      "text/plain": [
       "                                                   0\n",
       "0  [\\n\\n\\n\\n, \\n\\n\\n\\n\\n\\n\\n\\n\\n\\n, \\n\\n\\n\\n\\nMsc..."
      ]
     },
     "execution_count": 37,
     "metadata": {},
     "output_type": "execute_result"
    }
   ],
   "source": [
    "columns = get_col(URL)\n",
    "columns"
   ]
  },
  {
   "cell_type": "code",
   "execution_count": 38,
   "metadata": {},
   "outputs": [],
   "source": [
    "columns = columns[0].str.split(',', expand=True)\n",
    "columns.iloc[0] = columns.iloc[0].str.replace('\\n','').str.replace(' ','')"
   ]
  },
  {
   "cell_type": "code",
   "execution_count": 39,
   "metadata": {},
   "outputs": [],
   "source": [
    "frames = [columns, df3]"
   ]
  },
  {
   "cell_type": "code",
   "execution_count": 40,
   "metadata": {},
   "outputs": [],
   "source": [
    "df_table = pd.concat(frames, ignore_index=True)"
   ]
  },
  {
   "cell_type": "code",
   "execution_count": 41,
   "metadata": {},
   "outputs": [
    {
     "data": {
      "text/html": [
       "<div>\n",
       "<style scoped>\n",
       "    .dataframe tbody tr th:only-of-type {\n",
       "        vertical-align: middle;\n",
       "    }\n",
       "\n",
       "    .dataframe tbody tr th {\n",
       "        vertical-align: top;\n",
       "    }\n",
       "\n",
       "    .dataframe thead th {\n",
       "        text-align: right;\n",
       "    }\n",
       "</style>\n",
       "<table border=\"1\" class=\"dataframe\">\n",
       "  <thead>\n",
       "    <tr style=\"text-align: right;\">\n",
       "      <th></th>\n",
       "      <th>0</th>\n",
       "      <th>1</th>\n",
       "      <th>2</th>\n",
       "      <th>3</th>\n",
       "      <th>4</th>\n",
       "      <th>5</th>\n",
       "      <th>6</th>\n",
       "      <th>7</th>\n",
       "      <th>8</th>\n",
       "      <th>9</th>\n",
       "      <th>10</th>\n",
       "      <th>11</th>\n",
       "      <th>12</th>\n",
       "      <th>13</th>\n",
       "      <th>14</th>\n",
       "      <th>15</th>\n",
       "    </tr>\n",
       "  </thead>\n",
       "  <tbody>\n",
       "    <tr>\n",
       "      <th>0</th>\n",
       "      <td>[</td>\n",
       "      <td></td>\n",
       "      <td>Msc</td>\n",
       "      <td>Nr</td>\n",
       "      <td>ImięNazwisko</td>\n",
       "      <td>Miejscowość</td>\n",
       "      <td>Kraj</td>\n",
       "      <td>Klub</td>\n",
       "      <td>Rok</td>\n",
       "      <td>Kat</td>\n",
       "      <td>MiejsceWKat</td>\n",
       "      <td>M</td>\n",
       "      <td>K</td>\n",
       "      <td>5Km</td>\n",
       "      <td>Wynik</td>\n",
       "      <td>Netto]</td>\n",
       "    </tr>\n",
       "    <tr>\n",
       "      <th>1</th>\n",
       "      <td>[#1,\\n,1,25000,Artur Kozłowski,Sieradz,POL,San...</td>\n",
       "      <td>NaN</td>\n",
       "      <td>NaN</td>\n",
       "      <td>NaN</td>\n",
       "      <td>NaN</td>\n",
       "      <td>NaN</td>\n",
       "      <td>NaN</td>\n",
       "      <td>NaN</td>\n",
       "      <td>NaN</td>\n",
       "      <td>NaN</td>\n",
       "      <td>NaN</td>\n",
       "      <td>NaN</td>\n",
       "      <td>NaN</td>\n",
       "      <td>NaN</td>\n",
       "      <td>NaN</td>\n",
       "      <td>NaN</td>\n",
       "    </tr>\n",
       "    <tr>\n",
       "      <th>2</th>\n",
       "      <td>[#2,\\n,2,24999,Tomasz Szymkowiak,Września,POL,...</td>\n",
       "      <td>NaN</td>\n",
       "      <td>NaN</td>\n",
       "      <td>NaN</td>\n",
       "      <td>NaN</td>\n",
       "      <td>NaN</td>\n",
       "      <td>NaN</td>\n",
       "      <td>NaN</td>\n",
       "      <td>NaN</td>\n",
       "      <td>NaN</td>\n",
       "      <td>NaN</td>\n",
       "      <td>NaN</td>\n",
       "      <td>NaN</td>\n",
       "      <td>NaN</td>\n",
       "      <td>NaN</td>\n",
       "      <td>NaN</td>\n",
       "    </tr>\n",
       "  </tbody>\n",
       "</table>\n",
       "</div>"
      ],
      "text/plain": [
       "                                                  0    1    2    3   \\\n",
       "0                                                  [       Msc   Nr   \n",
       "1  [#1,\\n,1,25000,Artur Kozłowski,Sieradz,POL,San...  NaN  NaN  NaN   \n",
       "2  [#2,\\n,2,24999,Tomasz Szymkowiak,Września,POL,...  NaN  NaN  NaN   \n",
       "\n",
       "             4            5     6     7    8    9            10   11   12  \\\n",
       "0  ImięNazwisko  Miejscowość  Kraj  Klub  Rok  Kat  MiejsceWKat    M    K   \n",
       "1           NaN          NaN   NaN   NaN  NaN  NaN          NaN  NaN  NaN   \n",
       "2           NaN          NaN   NaN   NaN  NaN  NaN          NaN  NaN  NaN   \n",
       "\n",
       "    13     14      15  \n",
       "0  5Km  Wynik  Netto]  \n",
       "1  NaN    NaN     NaN  \n",
       "2  NaN    NaN     NaN  "
      ]
     },
     "execution_count": 41,
     "metadata": {},
     "output_type": "execute_result"
    }
   ],
   "source": [
    "df_table.head(3)"
   ]
  },
  {
   "cell_type": "code",
   "execution_count": 42,
   "metadata": {},
   "outputs": [
    {
     "ename": "NameError",
     "evalue": "name 'df' is not defined",
     "output_type": "error",
     "traceback": [
      "\u001b[0;31m---------------------------------------------------------------------------\u001b[0m",
      "\u001b[0;31mNameError\u001b[0m                                 Traceback (most recent call last)",
      "\u001b[0;32m<ipython-input-42-1658c4bacc92>\u001b[0m in \u001b[0;36m<module>\u001b[0;34m\u001b[0m\n\u001b[0;32m----> 1\u001b[0;31m \u001b[0mdf_table2\u001b[0m \u001b[0;34m=\u001b[0m \u001b[0mdf_table\u001b[0m\u001b[0;34m.\u001b[0m\u001b[0mrename\u001b[0m\u001b[0;34m(\u001b[0m\u001b[0mcolumns\u001b[0m\u001b[0;34m=\u001b[0m\u001b[0mdf\u001b[0m\u001b[0;34m.\u001b[0m\u001b[0miloc\u001b[0m\u001b[0;34m[\u001b[0m\u001b[0;36m0\u001b[0m\u001b[0;34m]\u001b[0m\u001b[0;34m)\u001b[0m\u001b[0;34m\u001b[0m\u001b[0m\n\u001b[0m",
      "\u001b[0;31mNameError\u001b[0m: name 'df' is not defined"
     ]
    }
   ],
   "source": [
    "df_table2 = df_table.rename(columns=df.iloc[0])"
   ]
  },
  {
   "cell_type": "code",
   "execution_count": 309,
   "metadata": {},
   "outputs": [
    {
     "data": {
      "text/html": [
       "<div>\n",
       "<style scoped>\n",
       "    .dataframe tbody tr th:only-of-type {\n",
       "        vertical-align: middle;\n",
       "    }\n",
       "\n",
       "    .dataframe tbody tr th {\n",
       "        vertical-align: top;\n",
       "    }\n",
       "\n",
       "    .dataframe thead th {\n",
       "        text-align: right;\n",
       "    }\n",
       "</style>\n",
       "<table border=\"1\" class=\"dataframe\">\n",
       "  <thead>\n",
       "    <tr style=\"text-align: right;\">\n",
       "      <th></th>\n",
       "      <th>[</th>\n",
       "      <th></th>\n",
       "      <th>Msc</th>\n",
       "      <th>Nr</th>\n",
       "      <th>ImięNazwisko</th>\n",
       "      <th>Miejscowość</th>\n",
       "      <th>Kraj</th>\n",
       "      <th>Klub</th>\n",
       "      <th>Rok</th>\n",
       "      <th>Kat</th>\n",
       "      <th>MiejsceWKat</th>\n",
       "      <th>M</th>\n",
       "      <th>K</th>\n",
       "      <th>5Km</th>\n",
       "      <th>Wynik</th>\n",
       "      <th>Netto]</th>\n",
       "    </tr>\n",
       "  </thead>\n",
       "  <tbody>\n",
       "    <tr>\n",
       "      <th>0</th>\n",
       "      <td>[</td>\n",
       "      <td></td>\n",
       "      <td>Msc</td>\n",
       "      <td>Nr</td>\n",
       "      <td>ImięNazwisko</td>\n",
       "      <td>Miejscowość</td>\n",
       "      <td>Kraj</td>\n",
       "      <td>Klub</td>\n",
       "      <td>Rok</td>\n",
       "      <td>Kat</td>\n",
       "      <td>MiejsceWKat</td>\n",
       "      <td>M</td>\n",
       "      <td>K</td>\n",
       "      <td>5Km</td>\n",
       "      <td>Wynik</td>\n",
       "      <td>Netto]</td>\n",
       "    </tr>\n",
       "    <tr>\n",
       "      <th>1</th>\n",
       "      <td>1</td>\n",
       "      <td>\\n</td>\n",
       "      <td>1</td>\n",
       "      <td>25000</td>\n",
       "      <td>Artur Kozłowski</td>\n",
       "      <td>Sieradz</td>\n",
       "      <td>POL</td>\n",
       "      <td>Sanprobi Team</td>\n",
       "      <td>1985</td>\n",
       "      <td>M30</td>\n",
       "      <td>1</td>\n",
       "      <td>1</td>\n",
       "      <td>-</td>\n",
       "      <td>00:15:47</td>\n",
       "      <td>00:31:02</td>\n",
       "      <td>00:31:01</td>\n",
       "    </tr>\n",
       "    <tr>\n",
       "      <th>2</th>\n",
       "      <td>2</td>\n",
       "      <td>\\n</td>\n",
       "      <td>2</td>\n",
       "      <td>24999</td>\n",
       "      <td>Tomasz Szymkowiak</td>\n",
       "      <td>Września</td>\n",
       "      <td>POL</td>\n",
       "      <td>Krispol Active Team Września</td>\n",
       "      <td>1983</td>\n",
       "      <td>M30</td>\n",
       "      <td>2</td>\n",
       "      <td>2</td>\n",
       "      <td>-</td>\n",
       "      <td>00:15:47</td>\n",
       "      <td>00:31:22</td>\n",
       "      <td>00:31:21</td>\n",
       "    </tr>\n",
       "  </tbody>\n",
       "</table>\n",
       "</div>"
      ],
      "text/plain": [
       "   [       Msc      Nr        ImięNazwisko  Miejscowość  Kraj  \\\n",
       "0  [       Msc      Nr        ImięNazwisko  Miejscowość  Kraj   \n",
       "1  1   \\n    1   25000     Artur Kozłowski      Sieradz   POL   \n",
       "2  2   \\n    2   24999   Tomasz Szymkowiak     Września   POL   \n",
       "\n",
       "                            Klub    Rok   Kat  MiejsceWKat   M   K        5Km  \\\n",
       "0                           Klub    Rok   Kat  MiejsceWKat   M   K        5Km   \n",
       "1                  Sanprobi Team   1985   M30            1   1   -   00:15:47   \n",
       "2   Krispol Active Team Września   1983   M30            2   2   -   00:15:47   \n",
       "\n",
       "       Wynik     Netto]  \n",
       "0      Wynik     Netto]  \n",
       "1   00:31:02   00:31:01  \n",
       "2   00:31:22   00:31:21  "
      ]
     },
     "execution_count": 309,
     "metadata": {},
     "output_type": "execute_result"
    }
   ],
   "source": [
    "df_table2.head(3)"
   ]
  },
  {
   "cell_type": "code",
   "execution_count": 310,
   "metadata": {},
   "outputs": [],
   "source": [
    "proper_columns = {'[': 'Index', 'Msc': 'Place', 'Nr': 'Number', 'Kraj': 'Country'\n",
    "                  'ImięNazwisko':'Runner_name', 'Kat':'Category', 'Klub' : 'Club',\n",
    "                  'Rok' : 'Year', 'MiejsceWKat': 'Place_in_cat', 'Wynik' : 'Score_time',\n",
    "                  'Netto]': 'Netto'}\n",
    "\n",
    "df_table2.rename(columns=proper_columns, inplace=True)"
   ]
  },
  {
   "cell_type": "code",
   "execution_count": 349,
   "metadata": {},
   "outputs": [
    {
     "data": {
      "text/html": [
       "<div>\n",
       "<style scoped>\n",
       "    .dataframe tbody tr th:only-of-type {\n",
       "        vertical-align: middle;\n",
       "    }\n",
       "\n",
       "    .dataframe tbody tr th {\n",
       "        vertical-align: top;\n",
       "    }\n",
       "\n",
       "    .dataframe thead th {\n",
       "        text-align: right;\n",
       "    }\n",
       "</style>\n",
       "<table border=\"1\" class=\"dataframe\">\n",
       "  <thead>\n",
       "    <tr style=\"text-align: right;\">\n",
       "      <th></th>\n",
       "      <th>Index</th>\n",
       "      <th></th>\n",
       "      <th>Miejsce</th>\n",
       "      <th>Numer</th>\n",
       "      <th>Imię_Nazwisko</th>\n",
       "      <th>Miejscowość</th>\n",
       "      <th>Kraj</th>\n",
       "      <th>Klub</th>\n",
       "      <th>Rok</th>\n",
       "      <th>Kategoria</th>\n",
       "      <th>Miejsce_w_Kat</th>\n",
       "      <th>M</th>\n",
       "      <th>K</th>\n",
       "      <th>5Km</th>\n",
       "      <th>Wynik</th>\n",
       "      <th>Netto</th>\n",
       "    </tr>\n",
       "  </thead>\n",
       "  <tbody>\n",
       "    <tr>\n",
       "      <th>0</th>\n",
       "      <td>[</td>\n",
       "      <td></td>\n",
       "      <td>Msc</td>\n",
       "      <td>Nr</td>\n",
       "      <td>ImięNazwisko</td>\n",
       "      <td>Miejscowość</td>\n",
       "      <td>Kraj</td>\n",
       "      <td>Klub</td>\n",
       "      <td>Rok</td>\n",
       "      <td>Kat</td>\n",
       "      <td>MiejsceWKat</td>\n",
       "      <td>M</td>\n",
       "      <td>K</td>\n",
       "      <td>5Km</td>\n",
       "      <td>Wynik</td>\n",
       "      <td>Netto]</td>\n",
       "    </tr>\n",
       "    <tr>\n",
       "      <th>1</th>\n",
       "      <td>1</td>\n",
       "      <td>\\n</td>\n",
       "      <td>1</td>\n",
       "      <td>25000</td>\n",
       "      <td>Artur Kozłowski</td>\n",
       "      <td>Sieradz</td>\n",
       "      <td>POL</td>\n",
       "      <td>Sanprobi Team</td>\n",
       "      <td>1985</td>\n",
       "      <td>M30</td>\n",
       "      <td>1</td>\n",
       "      <td>1</td>\n",
       "      <td>-</td>\n",
       "      <td>00:15:47</td>\n",
       "      <td>00:31:02</td>\n",
       "      <td>00:31:01</td>\n",
       "    </tr>\n",
       "    <tr>\n",
       "      <th>2</th>\n",
       "      <td>2</td>\n",
       "      <td>\\n</td>\n",
       "      <td>2</td>\n",
       "      <td>24999</td>\n",
       "      <td>Tomasz Szymkowiak</td>\n",
       "      <td>Września</td>\n",
       "      <td>POL</td>\n",
       "      <td>Krispol Active Team Września</td>\n",
       "      <td>1983</td>\n",
       "      <td>M30</td>\n",
       "      <td>2</td>\n",
       "      <td>2</td>\n",
       "      <td>-</td>\n",
       "      <td>00:15:47</td>\n",
       "      <td>00:31:22</td>\n",
       "      <td>00:31:21</td>\n",
       "    </tr>\n",
       "  </tbody>\n",
       "</table>\n",
       "</div>"
      ],
      "text/plain": [
       "  Index      Miejsce   Numer       Imię_Nazwisko  Miejscowość  Kraj  \\\n",
       "0     [          Msc      Nr        ImięNazwisko  Miejscowość  Kraj   \n",
       "1     1   \\n       1   25000     Artur Kozłowski      Sieradz   POL   \n",
       "2     2   \\n       2   24999   Tomasz Szymkowiak     Września   POL   \n",
       "\n",
       "                            Klub    Rok Kategoria Miejsce_w_Kat   M   K  \\\n",
       "0                           Klub    Rok       Kat   MiejsceWKat   M   K   \n",
       "1                  Sanprobi Team   1985       M30             1   1   -   \n",
       "2   Krispol Active Team Września   1983       M30             2   2   -   \n",
       "\n",
       "         5Km      Wynik      Netto  \n",
       "0        5Km      Wynik     Netto]  \n",
       "1   00:15:47   00:31:02   00:31:01  \n",
       "2   00:15:47   00:31:22   00:31:21  "
      ]
     },
     "execution_count": 349,
     "metadata": {},
     "output_type": "execute_result"
    }
   ],
   "source": [
    "df_table2.head(3)"
   ]
  },
  {
   "cell_type": "code",
   "execution_count": 548,
   "metadata": {},
   "outputs": [],
   "source": [
    "df_table3 = df_table2.drop(columns=['Index',''])"
   ]
  },
  {
   "cell_type": "code",
   "execution_count": 549,
   "metadata": {},
   "outputs": [],
   "source": [
    "df_table3.drop(df_table3.index[0], inplace=True)"
   ]
  },
  {
   "cell_type": "code",
   "execution_count": 577,
   "metadata": {},
   "outputs": [
    {
     "data": {
      "text/html": [
       "<div>\n",
       "<style scoped>\n",
       "    .dataframe tbody tr th:only-of-type {\n",
       "        vertical-align: middle;\n",
       "    }\n",
       "\n",
       "    .dataframe tbody tr th {\n",
       "        vertical-align: top;\n",
       "    }\n",
       "\n",
       "    .dataframe thead th {\n",
       "        text-align: right;\n",
       "    }\n",
       "</style>\n",
       "<table border=\"1\" class=\"dataframe\">\n",
       "  <thead>\n",
       "    <tr style=\"text-align: right;\">\n",
       "      <th></th>\n",
       "      <th>Miejsce</th>\n",
       "      <th>Numer</th>\n",
       "      <th>Imię_Nazwisko</th>\n",
       "      <th>Miejscowość</th>\n",
       "      <th>Kraj</th>\n",
       "      <th>Klub</th>\n",
       "      <th>Rok</th>\n",
       "      <th>Kategoria</th>\n",
       "      <th>Miejsce_w_Kat</th>\n",
       "      <th>M</th>\n",
       "      <th>K</th>\n",
       "      <th>5Km</th>\n",
       "      <th>Wynik</th>\n",
       "      <th>Netto</th>\n",
       "    </tr>\n",
       "  </thead>\n",
       "  <tbody>\n",
       "    <tr>\n",
       "      <th>1</th>\n",
       "      <td>1</td>\n",
       "      <td>25000</td>\n",
       "      <td>Artur Kozłowski</td>\n",
       "      <td>Sieradz</td>\n",
       "      <td>POL</td>\n",
       "      <td>Sanprobi Team</td>\n",
       "      <td>1985</td>\n",
       "      <td>M30</td>\n",
       "      <td>1</td>\n",
       "      <td>1</td>\n",
       "      <td>0</td>\n",
       "      <td>00:15:47</td>\n",
       "      <td>00:31:02</td>\n",
       "      <td>00:31:01</td>\n",
       "    </tr>\n",
       "    <tr>\n",
       "      <th>2</th>\n",
       "      <td>2</td>\n",
       "      <td>24999</td>\n",
       "      <td>Tomasz Szymkowiak</td>\n",
       "      <td>Września</td>\n",
       "      <td>POL</td>\n",
       "      <td>Krispol Active Team Września</td>\n",
       "      <td>1983</td>\n",
       "      <td>M30</td>\n",
       "      <td>2</td>\n",
       "      <td>1</td>\n",
       "      <td>0</td>\n",
       "      <td>00:15:47</td>\n",
       "      <td>00:31:22</td>\n",
       "      <td>00:31:21</td>\n",
       "    </tr>\n",
       "    <tr>\n",
       "      <th>3</th>\n",
       "      <td>3</td>\n",
       "      <td>1858</td>\n",
       "      <td>Dawid Garski</td>\n",
       "      <td>Dąbie</td>\n",
       "      <td>POL</td>\n",
       "      <td>MLKS Baszta Bytów</td>\n",
       "      <td>1995</td>\n",
       "      <td>M20</td>\n",
       "      <td>1</td>\n",
       "      <td>1</td>\n",
       "      <td>0</td>\n",
       "      <td>00:16:21</td>\n",
       "      <td>00:32:33</td>\n",
       "      <td>00:32:32</td>\n",
       "    </tr>\n",
       "  </tbody>\n",
       "</table>\n",
       "</div>"
      ],
      "text/plain": [
       "  Miejsce   Numer       Imię_Nazwisko Miejscowość  Kraj  \\\n",
       "1       1   25000     Artur Kozłowski     Sieradz   POL   \n",
       "2       2   24999   Tomasz Szymkowiak    Września   POL   \n",
       "3       3    1858        Dawid Garski       Dąbie   POL   \n",
       "\n",
       "                            Klub    Rok Kategoria Miejsce_w_Kat  M  K  \\\n",
       "1                  Sanprobi Team   1985       M30             1  1  0   \n",
       "2   Krispol Active Team Września   1983       M30             2  1  0   \n",
       "3              MLKS Baszta Bytów   1995       M20             1  1  0   \n",
       "\n",
       "         5Km      Wynik      Netto  \n",
       "1   00:15:47   00:31:02   00:31:01  \n",
       "2   00:15:47   00:31:22   00:31:21  \n",
       "3   00:16:21   00:32:33   00:32:32  "
      ]
     },
     "execution_count": 577,
     "metadata": {},
     "output_type": "execute_result"
    }
   ],
   "source": [
    "df_table3.head(3)"
   ]
  },
  {
   "cell_type": "code",
   "execution_count": 726,
   "metadata": {},
   "outputs": [
    {
     "data": {
      "text/plain": [
       " M30     5672\n",
       " M40     4116\n",
       " M20     3499\n",
       " K30     2746\n",
       " K20     1956\n",
       " K40     1943\n",
       " M50     1169\n",
       " M16      406\n",
       " K50      346\n",
       " M60      340\n",
       " K16      141\n",
       " K60       69\n",
       " M70+      50\n",
       " K70+       3\n",
       "Name: Kategoria, dtype: int64"
      ]
     },
     "execution_count": 726,
     "metadata": {},
     "output_type": "execute_result"
    }
   ],
   "source": [
    "df_table3['Kategoria'].value_counts()"
   ]
  },
  {
   "cell_type": "code",
   "execution_count": 551,
   "metadata": {},
   "outputs": [],
   "source": [
    "df_table3['Miejscowość'] = df_table3['Miejscowość'].astype(str) "
   ]
  },
  {
   "cell_type": "code",
   "execution_count": 552,
   "metadata": {},
   "outputs": [],
   "source": [
    "df_table3.loc[:,('Miejscowość')] = df_table3.loc[:,('Miejscowość')].apply(lambda x: x.title())"
   ]
  },
  {
   "cell_type": "code",
   "execution_count": 553,
   "metadata": {},
   "outputs": [],
   "source": [
    "df_table3['M'] = df_table3['M'].apply(lambda x: 0 if x == ' -' else 1)"
   ]
  },
  {
   "cell_type": "code",
   "execution_count": 554,
   "metadata": {},
   "outputs": [],
   "source": [
    "df_table3['K'] = df_table3['M'].apply(lambda x: 1 if x == ' -' else 0)"
   ]
  },
  {
   "cell_type": "code",
   "execution_count": 563,
   "metadata": {
    "scrolled": false
   },
   "outputs": [
    {
     "data": {
      "text/html": [
       "<div>\n",
       "<style scoped>\n",
       "    .dataframe tbody tr th:only-of-type {\n",
       "        vertical-align: middle;\n",
       "    }\n",
       "\n",
       "    .dataframe tbody tr th {\n",
       "        vertical-align: top;\n",
       "    }\n",
       "\n",
       "    .dataframe thead th {\n",
       "        text-align: right;\n",
       "    }\n",
       "</style>\n",
       "<table border=\"1\" class=\"dataframe\">\n",
       "  <thead>\n",
       "    <tr style=\"text-align: right;\">\n",
       "      <th></th>\n",
       "      <th>Miejsce</th>\n",
       "      <th>Numer</th>\n",
       "      <th>Imię_Nazwisko</th>\n",
       "      <th>Miejscowość</th>\n",
       "      <th>Kraj</th>\n",
       "      <th>Klub</th>\n",
       "      <th>Rok</th>\n",
       "      <th>Kategoria</th>\n",
       "      <th>Miejsce_w_Kat</th>\n",
       "      <th>M</th>\n",
       "      <th>K</th>\n",
       "      <th>5Km</th>\n",
       "      <th>Wynik</th>\n",
       "      <th>Netto</th>\n",
       "    </tr>\n",
       "  </thead>\n",
       "  <tbody>\n",
       "    <tr>\n",
       "      <th>1</th>\n",
       "      <td>1</td>\n",
       "      <td>25000</td>\n",
       "      <td>Artur Kozłowski</td>\n",
       "      <td>Sieradz</td>\n",
       "      <td>POL</td>\n",
       "      <td>Sanprobi Team</td>\n",
       "      <td>1985</td>\n",
       "      <td>M30</td>\n",
       "      <td>1</td>\n",
       "      <td>1</td>\n",
       "      <td>0</td>\n",
       "      <td>00:15:47</td>\n",
       "      <td>00:31:02</td>\n",
       "      <td>00:31:01</td>\n",
       "    </tr>\n",
       "    <tr>\n",
       "      <th>2</th>\n",
       "      <td>2</td>\n",
       "      <td>24999</td>\n",
       "      <td>Tomasz Szymkowiak</td>\n",
       "      <td>Września</td>\n",
       "      <td>POL</td>\n",
       "      <td>Krispol Active Team Września</td>\n",
       "      <td>1983</td>\n",
       "      <td>M30</td>\n",
       "      <td>2</td>\n",
       "      <td>1</td>\n",
       "      <td>0</td>\n",
       "      <td>00:15:47</td>\n",
       "      <td>00:31:22</td>\n",
       "      <td>00:31:21</td>\n",
       "    </tr>\n",
       "    <tr>\n",
       "      <th>3</th>\n",
       "      <td>3</td>\n",
       "      <td>1858</td>\n",
       "      <td>Dawid Garski</td>\n",
       "      <td>Dąbie</td>\n",
       "      <td>POL</td>\n",
       "      <td>MLKS Baszta Bytów</td>\n",
       "      <td>1995</td>\n",
       "      <td>M20</td>\n",
       "      <td>1</td>\n",
       "      <td>1</td>\n",
       "      <td>0</td>\n",
       "      <td>00:16:21</td>\n",
       "      <td>00:32:33</td>\n",
       "      <td>00:32:32</td>\n",
       "    </tr>\n",
       "    <tr>\n",
       "      <th>4</th>\n",
       "      <td>4</td>\n",
       "      <td>22947</td>\n",
       "      <td>Adrian Bednarek</td>\n",
       "      <td>Bydgoszcz</td>\n",
       "      <td>POL</td>\n",
       "      <td>—</td>\n",
       "      <td>1990</td>\n",
       "      <td>M20</td>\n",
       "      <td>2</td>\n",
       "      <td>1</td>\n",
       "      <td>0</td>\n",
       "      <td>00:16:37</td>\n",
       "      <td>00:32:38</td>\n",
       "      <td>00:32:37</td>\n",
       "    </tr>\n",
       "    <tr>\n",
       "      <th>5</th>\n",
       "      <td>5</td>\n",
       "      <td>23974</td>\n",
       "      <td>Krzysztof Jilek</td>\n",
       "      <td>Bystrzyca Kłodzka</td>\n",
       "      <td>POL</td>\n",
       "      <td>Ulks Bystrzyca Kłodzka/FIZJOTERAPEUTY/Biegi Ś...</td>\n",
       "      <td>1997</td>\n",
       "      <td>M20</td>\n",
       "      <td>3</td>\n",
       "      <td>1</td>\n",
       "      <td>0</td>\n",
       "      <td>00:16:38</td>\n",
       "      <td>00:32:55</td>\n",
       "      <td>00:32:54</td>\n",
       "    </tr>\n",
       "    <tr>\n",
       "      <th>6</th>\n",
       "      <td>6</td>\n",
       "      <td>17330</td>\n",
       "      <td>Paweł Młodzikowski</td>\n",
       "      <td>Adamów</td>\n",
       "      <td>POL</td>\n",
       "      <td>Kb V-MAX Adamów</td>\n",
       "      <td>1987</td>\n",
       "      <td>M30</td>\n",
       "      <td>3</td>\n",
       "      <td>1</td>\n",
       "      <td>0</td>\n",
       "      <td>00:16:41</td>\n",
       "      <td>00:33:34</td>\n",
       "      <td>00:33:33</td>\n",
       "    </tr>\n",
       "    <tr>\n",
       "      <th>7</th>\n",
       "      <td>7</td>\n",
       "      <td>18319</td>\n",
       "      <td>Paweł Raczyński</td>\n",
       "      <td>Krosno Odrzańskie</td>\n",
       "      <td>POL</td>\n",
       "      <td>5 kresowy batalion saperów Krosno Odrzańskie</td>\n",
       "      <td>1990</td>\n",
       "      <td>M20</td>\n",
       "      <td>4</td>\n",
       "      <td>1</td>\n",
       "      <td>0</td>\n",
       "      <td>00:16:41</td>\n",
       "      <td>00:33:37</td>\n",
       "      <td>00:33:36</td>\n",
       "    </tr>\n",
       "  </tbody>\n",
       "</table>\n",
       "</div>"
      ],
      "text/plain": [
       "  Miejsce   Numer        Imię_Nazwisko         Miejscowość  Kraj  \\\n",
       "1       1   25000      Artur Kozłowski             Sieradz   POL   \n",
       "2       2   24999    Tomasz Szymkowiak            Września   POL   \n",
       "3       3    1858         Dawid Garski               Dąbie   POL   \n",
       "4       4   22947      Adrian Bednarek           Bydgoszcz   POL   \n",
       "5       5   23974      Krzysztof Jilek   Bystrzyca Kłodzka   POL   \n",
       "6       6   17330   Paweł Młodzikowski              Adamów   POL   \n",
       "7       7   18319      Paweł Raczyński   Krosno Odrzańskie   POL   \n",
       "\n",
       "                                                Klub    Rok Kategoria  \\\n",
       "1                                      Sanprobi Team   1985       M30   \n",
       "2                       Krispol Active Team Września   1983       M30   \n",
       "3                                  MLKS Baszta Bytów   1995       M20   \n",
       "4                                                  —   1990       M20   \n",
       "5   Ulks Bystrzyca Kłodzka/FIZJOTERAPEUTY/Biegi Ś...   1997       M20   \n",
       "6                                    Kb V-MAX Adamów   1987       M30   \n",
       "7       5 kresowy batalion saperów Krosno Odrzańskie   1990       M20   \n",
       "\n",
       "  Miejsce_w_Kat  M  K        5Km      Wynik      Netto  \n",
       "1             1  1  0   00:15:47   00:31:02   00:31:01  \n",
       "2             2  1  0   00:15:47   00:31:22   00:31:21  \n",
       "3             1  1  0   00:16:21   00:32:33   00:32:32  \n",
       "4             2  1  0   00:16:37   00:32:38   00:32:37  \n",
       "5             3  1  0   00:16:38   00:32:55   00:32:54  \n",
       "6             3  1  0   00:16:41   00:33:34   00:33:33  \n",
       "7             4  1  0   00:16:41   00:33:37   00:33:36  "
      ]
     },
     "execution_count": 563,
     "metadata": {},
     "output_type": "execute_result"
    }
   ],
   "source": [
    "df_table3.head(7)"
   ]
  },
  {
   "cell_type": "markdown",
   "metadata": {},
   "source": [
    "## Memory usage optimalization"
   ]
  },
  {
   "cell_type": "markdown",
   "metadata": {},
   "source": [
    "I wrote a loop to iterate over each object column, check if the number of unique values is less than 50%, and if so, convert it to the category type.\n",
    "<br> We've gone from 18.3 MB of memory usage to 7.4 MB of memory usage, or a 60% reduction! "
   ]
  },
  {
   "cell_type": "code",
   "execution_count": 697,
   "metadata": {},
   "outputs": [
    {
     "name": "stdout",
     "output_type": "stream",
     "text": [
      "<class 'pandas.core.frame.DataFrame'>\n",
      "Int64Index: 22456 entries, 1 to 22542\n",
      "Data columns (total 14 columns):\n",
      "Miejsce          22456 non-null object\n",
      "Numer            22456 non-null object\n",
      "Imię_Nazwisko    22456 non-null object\n",
      "Miejscowość      22456 non-null object\n",
      "Kraj             22456 non-null object\n",
      "Klub             22456 non-null object\n",
      "Rok              22456 non-null object\n",
      "Kategoria        22456 non-null object\n",
      "Miejsce_w_Kat    22456 non-null object\n",
      "M                22456 non-null int64\n",
      "K                22456 non-null int64\n",
      "5Km              22456 non-null object\n",
      "Wynik            22456 non-null object\n",
      "Netto            22456 non-null object\n",
      "dtypes: int64(2), object(12)\n",
      "memory usage: 18.4 MB\n"
     ]
    }
   ],
   "source": [
    "df_table3 = df_table3.dropna()\n",
    "df_table3.info(memory_usage='deep')"
   ]
  },
  {
   "cell_type": "markdown",
   "metadata": {},
   "source": [
    "I needed to convert the list back into a dataframe and make a new column (\"Runner_mins\") for runner chip times expressed in just minutes."
   ]
  },
  {
   "cell_type": "code",
   "execution_count": 704,
   "metadata": {},
   "outputs": [],
   "source": [
    "mins = df_table3['Wynik'].dropna().tolist()\n",
    "\n",
    "time_mins = []\n",
    "for i in test:\n",
    "    h, m, s = i.split(':')\n",
    "    math = (int(h) * 3600 + int(m) * 60 + int(s))/60\n",
    "    time_mins.append(math)\n",
    "\n",
    "df_table3['Runner_mins'] = time_mins"
   ]
  },
  {
   "cell_type": "code",
   "execution_count": 705,
   "metadata": {},
   "outputs": [
    {
     "data": {
      "text/html": [
       "<div>\n",
       "<style scoped>\n",
       "    .dataframe tbody tr th:only-of-type {\n",
       "        vertical-align: middle;\n",
       "    }\n",
       "\n",
       "    .dataframe tbody tr th {\n",
       "        vertical-align: top;\n",
       "    }\n",
       "\n",
       "    .dataframe thead th {\n",
       "        text-align: right;\n",
       "    }\n",
       "</style>\n",
       "<table border=\"1\" class=\"dataframe\">\n",
       "  <thead>\n",
       "    <tr style=\"text-align: right;\">\n",
       "      <th></th>\n",
       "      <th>Miejsce</th>\n",
       "      <th>Numer</th>\n",
       "      <th>Imię_Nazwisko</th>\n",
       "      <th>Miejscowość</th>\n",
       "      <th>Kraj</th>\n",
       "      <th>Klub</th>\n",
       "      <th>Rok</th>\n",
       "      <th>Kategoria</th>\n",
       "      <th>Miejsce_w_Kat</th>\n",
       "      <th>M</th>\n",
       "      <th>K</th>\n",
       "      <th>5Km</th>\n",
       "      <th>Wynik</th>\n",
       "      <th>Netto</th>\n",
       "      <th>Runner_mins</th>\n",
       "    </tr>\n",
       "  </thead>\n",
       "  <tbody>\n",
       "    <tr>\n",
       "      <th>1</th>\n",
       "      <td>1</td>\n",
       "      <td>25000</td>\n",
       "      <td>Artur Kozłowski</td>\n",
       "      <td>Sieradz</td>\n",
       "      <td>POL</td>\n",
       "      <td>Sanprobi Team</td>\n",
       "      <td>1985</td>\n",
       "      <td>M30</td>\n",
       "      <td>1</td>\n",
       "      <td>1</td>\n",
       "      <td>0</td>\n",
       "      <td>00:15:47</td>\n",
       "      <td>00:31:02</td>\n",
       "      <td>00:31:01</td>\n",
       "      <td>31.033333</td>\n",
       "    </tr>\n",
       "    <tr>\n",
       "      <th>2</th>\n",
       "      <td>2</td>\n",
       "      <td>24999</td>\n",
       "      <td>Tomasz Szymkowiak</td>\n",
       "      <td>Września</td>\n",
       "      <td>POL</td>\n",
       "      <td>Krispol Active Team Września</td>\n",
       "      <td>1983</td>\n",
       "      <td>M30</td>\n",
       "      <td>2</td>\n",
       "      <td>1</td>\n",
       "      <td>0</td>\n",
       "      <td>00:15:47</td>\n",
       "      <td>00:31:22</td>\n",
       "      <td>00:31:21</td>\n",
       "      <td>31.366667</td>\n",
       "    </tr>\n",
       "    <tr>\n",
       "      <th>3</th>\n",
       "      <td>3</td>\n",
       "      <td>1858</td>\n",
       "      <td>Dawid Garski</td>\n",
       "      <td>Dąbie</td>\n",
       "      <td>POL</td>\n",
       "      <td>MLKS Baszta Bytów</td>\n",
       "      <td>1995</td>\n",
       "      <td>M20</td>\n",
       "      <td>1</td>\n",
       "      <td>1</td>\n",
       "      <td>0</td>\n",
       "      <td>00:16:21</td>\n",
       "      <td>00:32:33</td>\n",
       "      <td>00:32:32</td>\n",
       "      <td>32.550000</td>\n",
       "    </tr>\n",
       "  </tbody>\n",
       "</table>\n",
       "</div>"
      ],
      "text/plain": [
       "  Miejsce   Numer       Imię_Nazwisko Miejscowość  Kraj  \\\n",
       "1       1   25000     Artur Kozłowski     Sieradz   POL   \n",
       "2       2   24999   Tomasz Szymkowiak    Września   POL   \n",
       "3       3    1858        Dawid Garski       Dąbie   POL   \n",
       "\n",
       "                            Klub    Rok Kategoria Miejsce_w_Kat  M  K  \\\n",
       "1                  Sanprobi Team   1985       M30             1  1  0   \n",
       "2   Krispol Active Team Września   1983       M30             2  1  0   \n",
       "3              MLKS Baszta Bytów   1995       M20             1  1  0   \n",
       "\n",
       "         5Km      Wynik      Netto  Runner_mins  \n",
       "1   00:15:47   00:31:02   00:31:01    31.033333  \n",
       "2   00:15:47   00:31:22   00:31:21    31.366667  \n",
       "3   00:16:21   00:32:33   00:32:32    32.550000  "
      ]
     },
     "execution_count": 705,
     "metadata": {},
     "output_type": "execute_result"
    }
   ],
   "source": [
    "df_table3.head(3)"
   ]
  },
  {
   "cell_type": "code",
   "execution_count": 706,
   "metadata": {},
   "outputs": [],
   "source": [
    "converted_obj = pd.DataFrame()\n",
    "\n",
    "for col in df_table3.columns:\n",
    "    num_unique_values = len(df_table3[col].unique())\n",
    "    num_total_values = len(df_table3[col])\n",
    "    if num_unique_values / num_total_values < 0.5:\n",
    "        converted_obj.loc[:,col] = df_table3[col].astype('category')\n",
    "    else:\n",
    "        converted_obj.loc[:,col] = df_table3[col]"
   ]
  },
  {
   "cell_type": "code",
   "execution_count": 707,
   "metadata": {},
   "outputs": [
    {
     "name": "stdout",
     "output_type": "stream",
     "text": [
      "<class 'pandas.core.frame.DataFrame'>\n",
      "Int64Index: 22456 entries, 1 to 22542\n",
      "Data columns (total 15 columns):\n",
      "Miejsce          22456 non-null object\n",
      "Numer            22456 non-null object\n",
      "Imię_Nazwisko    22456 non-null object\n",
      "Miejscowość      22456 non-null category\n",
      "Kraj             22456 non-null category\n",
      "Klub             22456 non-null category\n",
      "Rok              22456 non-null category\n",
      "Kategoria        22456 non-null category\n",
      "Miejsce_w_Kat    22456 non-null category\n",
      "M                22456 non-null category\n",
      "K                22456 non-null category\n",
      "5Km              22456 non-null category\n",
      "Wynik            22456 non-null category\n",
      "Netto            22456 non-null category\n",
      "Runner_mins      22456 non-null category\n",
      "dtypes: category(12), object(3)\n",
      "memory usage: 7.9 MB\n"
     ]
    }
   ],
   "source": [
    "converted_obj.info(memory_usage='deep')"
   ]
  },
  {
   "cell_type": "code",
   "execution_count": 708,
   "metadata": {},
   "outputs": [],
   "source": [
    "start_mem_usg = df_table3.memory_usage(deep=True).sum() / 1024**2\n",
    "mem_usg = converted_obj.memory_usage(deep=True).sum() / 1024**2"
   ]
  },
  {
   "cell_type": "code",
   "execution_count": 709,
   "metadata": {},
   "outputs": [
    {
     "name": "stdout",
     "output_type": "stream",
     "text": [
      "This is  41.74 % of the initial size.\n"
     ]
    }
   ],
   "source": [
    "print(\"This is \",100* round(mem_usg/start_mem_usg,4) ,\"% of the initial size.\")"
   ]
  },
  {
   "cell_type": "markdown",
   "metadata": {},
   "source": [
    "# Data Analysis and Visualization"
   ]
  },
  {
   "cell_type": "code",
   "execution_count": 2,
   "metadata": {},
   "outputs": [
    {
     "ename": "NameError",
     "evalue": "name 'df_table3' is not defined",
     "output_type": "error",
     "traceback": [
      "\u001b[0;31m---------------------------------------------------------------------------\u001b[0m",
      "\u001b[0;31mNameError\u001b[0m                                 Traceback (most recent call last)",
      "\u001b[0;32m<ipython-input-2-508d8f2db2a0>\u001b[0m in \u001b[0;36m<module>\u001b[0;34m\u001b[0m\n\u001b[0;32m----> 1\u001b[0;31m \u001b[0mdf_table3\u001b[0m\u001b[0;34m[\u001b[0m\u001b[0;34m'Runner_mins'\u001b[0m\u001b[0;34m]\u001b[0m\u001b[0;34m.\u001b[0m\u001b[0mdescribe\u001b[0m\u001b[0;34m(\u001b[0m\u001b[0minclude\u001b[0m\u001b[0;34m=\u001b[0m\u001b[0;34m[\u001b[0m\u001b[0mnp\u001b[0m\u001b[0;34m.\u001b[0m\u001b[0mnumber\u001b[0m\u001b[0;34m]\u001b[0m\u001b[0;34m)\u001b[0m\u001b[0;34m.\u001b[0m\u001b[0mto_frame\u001b[0m\u001b[0;34m(\u001b[0m\u001b[0;34m)\u001b[0m\u001b[0;34m\u001b[0m\u001b[0m\n\u001b[0m",
      "\u001b[0;31mNameError\u001b[0m: name 'df_table3' is not defined"
     ]
    }
   ],
   "source": [
    "df_table3['Runner_mins'].describe(include=[np.number]).to_frame()"
   ]
  },
  {
   "cell_type": "markdown",
   "metadata": {},
   "source": [
    "The average running time for all runners was ~85 mins. <br> The fastest runner finished 5km in 36 mins, and the slowest runner finished race in 148 minutes."
   ]
  },
  {
   "cell_type": "code",
   "execution_count": 1,
   "metadata": {},
   "outputs": [
    {
     "ename": "NameError",
     "evalue": "name 'df_table3' is not defined",
     "output_type": "error",
     "traceback": [
      "\u001b[0;31m---------------------------------------------------------------------------\u001b[0m",
      "\u001b[0;31mNameError\u001b[0m                                 Traceback (most recent call last)",
      "\u001b[0;32m<ipython-input-1-6650a9f06cdd>\u001b[0m in \u001b[0;36m<module>\u001b[0;34m\u001b[0m\n\u001b[1;32m      1\u001b[0m \u001b[0;32mfrom\u001b[0m \u001b[0mpylab\u001b[0m \u001b[0;32mimport\u001b[0m \u001b[0mrcParams\u001b[0m\u001b[0;34m\u001b[0m\u001b[0m\n\u001b[1;32m      2\u001b[0m \u001b[0mrcParams\u001b[0m\u001b[0;34m[\u001b[0m\u001b[0;34m'figure.figsize'\u001b[0m\u001b[0;34m]\u001b[0m \u001b[0;34m=\u001b[0m \u001b[0;36m15\u001b[0m\u001b[0;34m,\u001b[0m \u001b[0;36m5\u001b[0m\u001b[0;34m\u001b[0m\u001b[0m\n\u001b[0;32m----> 3\u001b[0;31m \u001b[0mx\u001b[0m \u001b[0;34m=\u001b[0m \u001b[0mdf_table3\u001b[0m\u001b[0;34m[\u001b[0m\u001b[0;34m'Runner_mins'\u001b[0m\u001b[0;34m]\u001b[0m\u001b[0;34m\u001b[0m\u001b[0m\n\u001b[0m\u001b[1;32m      4\u001b[0m \u001b[0max\u001b[0m \u001b[0;34m=\u001b[0m \u001b[0msns\u001b[0m\u001b[0;34m.\u001b[0m\u001b[0mdistplot\u001b[0m\u001b[0;34m(\u001b[0m\u001b[0mx\u001b[0m\u001b[0;34m,\u001b[0m \u001b[0mhist\u001b[0m\u001b[0;34m=\u001b[0m\u001b[0;32mTrue\u001b[0m\u001b[0;34m,\u001b[0m \u001b[0mkde\u001b[0m\u001b[0;34m=\u001b[0m\u001b[0;32mTrue\u001b[0m\u001b[0;34m,\u001b[0m \u001b[0mrug\u001b[0m\u001b[0;34m=\u001b[0m\u001b[0;32mFalse\u001b[0m\u001b[0;34m,\u001b[0m \u001b[0mcolor\u001b[0m\u001b[0;34m=\u001b[0m\u001b[0;34m'b'\u001b[0m\u001b[0;34m,\u001b[0m \u001b[0mbins\u001b[0m\u001b[0;34m=\u001b[0m\u001b[0;36m35\u001b[0m\u001b[0;34m,\u001b[0m \u001b[0mhist_kws\u001b[0m\u001b[0;34m=\u001b[0m\u001b[0;34m{\u001b[0m\u001b[0;34m'edgecolor'\u001b[0m\u001b[0;34m:\u001b[0m\u001b[0;34m'black'\u001b[0m\u001b[0;34m}\u001b[0m\u001b[0;34m)\u001b[0m\u001b[0;34m\u001b[0m\u001b[0m\n\u001b[1;32m      5\u001b[0m \u001b[0;34m\u001b[0m\u001b[0m\n",
      "\u001b[0;31mNameError\u001b[0m: name 'df_table3' is not defined"
     ]
    }
   ],
   "source": [
    "from pylab import rcParams\n",
    "rcParams['figure.figsize'] = 15, 5\n",
    "x = df_table3['Runner_mins']\n",
    "ax = sns.distplot(x, hist=True, kde=True, rug=False, color='b', bins=35, hist_kws={'edgecolor':'black'})\n",
    "\n",
    "plt.show()"
   ]
  },
  {
   "cell_type": "markdown",
   "metadata": {},
   "source": [
    "As we can see the distribution looks almost normal."
   ]
  },
  {
   "cell_type": "code",
   "execution_count": null,
   "metadata": {},
   "outputs": [],
   "source": []
  }
 ],
 "metadata": {
  "kernelspec": {
   "display_name": "Python 3",
   "language": "python",
   "name": "python3"
  },
  "language_info": {
   "codemirror_mode": {
    "name": "ipython",
    "version": 3
   },
   "file_extension": ".py",
   "mimetype": "text/x-python",
   "name": "python",
   "nbconvert_exporter": "python",
   "pygments_lexer": "ipython3",
   "version": "3.6.6"
  }
 },
 "nbformat": 4,
 "nbformat_minor": 2
}
