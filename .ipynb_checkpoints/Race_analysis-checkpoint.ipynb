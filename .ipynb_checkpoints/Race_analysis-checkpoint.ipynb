{
 "cells": [
  {
   "cell_type": "markdown",
   "metadata": {},
   "source": [
    "# 3 Poznański Bieg Niepodległości"
   ]
  },
  {
   "cell_type": "markdown",
   "metadata": {},
   "source": [
    "In 3 Poznański Bieg Niepodległości took part 22542 participants. \n",
    "I decided to analyse this race and answer a few basic questions. \n",
    "<br> Web scraping using synchronous requests, in this case, was slow and inefficient. \n",
    "<br> After research, I decided to use asynchronous web-scraping with asyncio module. <br> Surprisingly this way of solving problem boosted my web-scraper and decreased waiting time from about 10/9 minutes to 3/2 minutes. \n",
    "\n",
    "Analysis's questions:\n",
    "\n",
    "> What age group was most popular?\n",
    "\n",
    "> What is the average, minimal, maximal finish time for the participants?\n",
    "\n",
    "> Did the participants finish times follow a normal distribution? \n",
    "\n",
    "> What are differences between males and females results along various age groups?\n",
    "\n",
    "\n",
    "We can split this analysis into 4 main parts:\n",
    "\n",
    "* 1. Data extraction / web scraping\n",
    "* 2. Data cleaning\n",
    "* 3. Memory usage optimization\n",
    "* 4. Data analysis and visualisation"
   ]
  },
  {
   "cell_type": "code",
   "execution_count": 3,
   "metadata": {},
   "outputs": [],
   "source": [
    "# Importing Python's modules.\n",
    "import re\n",
    "import pandas as pd\n",
    "import numpy as np\n",
    "import seaborn as sns\n",
    "import matplotlib.pyplot as plt\n",
    "from matplotlib.gridspec import GridSpec\n",
    "\n",
    "%matplotlib inline\n",
    "\n",
    "from urllib.request import urlopen\n",
    "from bs4 import BeautifulSoup\n",
    "import requests\n",
    "import time"
   ]
  },
  {
   "cell_type": "code",
   "execution_count": 4,
   "metadata": {},
   "outputs": [],
   "source": [
    "#URL with runners results during 3 Poznański Bieg Niepodległości.\n",
    "URL = 'https://enduhub.com/pl/wyniki/2018/11/11/bieganie/3-poznanski-bieg-niepodleglosci,46448/'"
   ]
  },
  {
   "cell_type": "markdown",
   "metadata": {},
   "source": [
    "## Web-Scraping with asyncio module"
   ]
  },
  {
   "cell_type": "markdown",
   "metadata": {},
   "source": [
    "We are going to get results from each page using Python's web-scraper.\n",
    "Requaierd modules:\n",
    "\n",
    "* Asyncio is the asynchronous IO library that was introduced in python 3.4. Asyncio uses event loops, coroutines, and tasks to minimize idle time. <br> It's quite complex, for more informations check:\n",
    "\n",
    " > https://asyncio.readthedocs.io/en/latest/\n",
    " \n",
    " >https://medium.com/@santhoshhari/efficient-web-scraping-with-pythons-asynchronous-programming-6b9e730f1ff7\n",
    "\n",
    "* Aiohttp creates HTTP client/server sessions for asyncio.\n",
    " "
   ]
  },
  {
   "cell_type": "code",
   "execution_count": 11,
   "metadata": {},
   "outputs": [],
   "source": [
    "# Importing asyncio's modules.\n",
    "import nest_asyncio\n",
    "nest_asyncio.apply()\n",
    "import asyncio\n",
    "import aiohttp\n",
    "\n",
    "\n",
    "async def fetch_url(session, url):\n",
    "    ''' This function fetches URL from the website that you want to scrape. '''\n",
    "    async with session.get(url, timeout=60*60) as response:\n",
    "        return await response.text()\n",
    "\n",
    "async def fetch_all_urls(session, urls, loop):\n",
    "    ''' This function fetches all URLs from the website that you want to scrape. '''\n",
    "    results = await asyncio.gather(*[fetch_url(session, url) for url in urls],\n",
    "    return_exceptions=True)\n",
    "    \n",
    "    return results\n",
    "\n",
    "def get_htmls(urls):\n",
    "    ''' This function takes in a list of URLs, returns a list with URLs as keys\n",
    "    and the HTML response returned by the web server as values.\n",
    "    \n",
    "    TCPConnector - to tweak or change transport layer of requests you can \n",
    "    pass a custom connector to ClientSession and family.\n",
    "    '''\n",
    "    if len(urls) > 1:\n",
    "        loop = asyncio.get_event_loop()\n",
    "        connector = aiohttp.TCPConnector(limit=10)\n",
    "        async with aiohttp.ClientSession(loop=loop, connector=connector) as session:\n",
    "            htmls = loop.run_until_complete(fetch_all_urls(session, urls, loop))\n",
    "            raw_result = list(htmls)\n",
    "    else:\n",
    "        headers = {'User-Agent': 'Mozilla/5.0 (Macintosh; Intel Mac OS X 10_11_5) AppleWebKit/537.36(KHTML, like Gecko) Chrome/50.0.2661.102 Safari/537.36'}\n",
    "        raw_result = requests.get(urls[0], headers=headers).text\n",
    "\n",
    "    return raw_result\n",
    "\n",
    "def make_page_links(base_url):\n",
    "    '''  This definition of function iterates over range of pages\n",
    "    on website (in this case 266 pages) and returns list of all URLs. \n",
    "    '''\n",
    "    pages = [base_url + '?page={}'.format(str(i)) for i in range(1,227)]\n",
    "    \n",
    "    return pages    "
   ]
  },
  {
   "cell_type": "markdown",
   "metadata": {},
   "source": [
    "## Making DataFrame"
   ]
  },
  {
   "cell_type": "markdown",
   "metadata": {},
   "source": [
    "My first idea was to do web-scraping using request and bs4 modules. Iteration over 226 pages took about 8-10 minutes.\n",
    "<br> It was too long, so I decided to read about some optimization. I found really interesting article about an asynchronous\n",
    "package called asyncio. \n",
    "<br> Using asynchronous web-scraping with asyncio module I saved up to 6 minutes (70 % of waiting time) durign scraping data from web."
   ]
  },
  {
   "cell_type": "code",
   "execution_count": 12,
   "metadata": {},
   "outputs": [
    {
     "name": "stdout",
     "output_type": "stream",
     "text": [
      "CPU times: user 814 ms, sys: 113 ms, total: 927 ms\n",
      "Wall time: 2min 31s\n"
     ]
    }
   ],
   "source": [
    "%%time\n",
    "url_list = make_page_links(URL)\n",
    "raw_result = get_htmls(url_list)"
   ]
  },
  {
   "cell_type": "code",
   "execution_count": 194,
   "metadata": {},
   "outputs": [
    {
     "data": {
      "text/plain": [
       "226"
      ]
     },
     "execution_count": 194,
     "metadata": {},
     "output_type": "execute_result"
    }
   ],
   "source": [
    "# Checking if we scraped all 226 pages.\n",
    "len(raw_result)"
   ]
  },
  {
   "cell_type": "markdown",
   "metadata": {},
   "source": [
    "We have our raw data. Now we need to extract from HTML parts like tables('tr', {'class' : 'row1 Zawody'}) and rows ('td').\n",
    "<br> Then we need to convert a result into pandas DataFrame to prepare it for data wrangling and cleaning.\n",
    "<br> In next step we will extract collumn names from first page on 'https://enduhub.com/pl/wyniki/2018/11/11/bieganie/3-poznanski-bieg-niepodleglosci,46448/'. <br> Finally we have to concat both objects and voilà our DataFrame is ready."
   ]
  },
  {
   "cell_type": "code",
   "execution_count": 195,
   "metadata": {},
   "outputs": [],
   "source": [
    "def make_table():\n",
    "    ''' This function returns DataFrame that contains all \n",
    "    results (rows) from 3 Poznański Bieg Niepodległości. \n",
    "    Let's get ready to wrangle this Frame! \n",
    "    '''   \n",
    "    list_rows = []\n",
    "    for result in raw_result:\n",
    "        content = BeautifulSoup(result, 'lxml').find_all('tr', {'class' : re.compile('row.*? Zawody')})\n",
    "        for row in content:\n",
    "            cells = row.find_all('td')\n",
    "            str_cells = str(cells) \n",
    "            clean_cells = re.compile('<.*?>') \n",
    "            raw_rows = re.sub(clean_cells, '',str_cells)\n",
    "            list_rows.append(raw_rows)\n",
    "            \n",
    "    return pd.DataFrame(list_rows)\n",
    "\n",
    "## If you don't want to use regex, you can try this:\n",
    "## clean_cells = BeautifulSoup(str_cells, 'html.parser').get_text()         "
   ]
  },
  {
   "cell_type": "code",
   "execution_count": 196,
   "metadata": {},
   "outputs": [
    {
     "data": {
      "text/html": [
       "<div>\n",
       "<style scoped>\n",
       "    .dataframe tbody tr th:only-of-type {\n",
       "        vertical-align: middle;\n",
       "    }\n",
       "\n",
       "    .dataframe tbody tr th {\n",
       "        vertical-align: top;\n",
       "    }\n",
       "\n",
       "    .dataframe thead th {\n",
       "        text-align: right;\n",
       "    }\n",
       "</style>\n",
       "<table border=\"1\" class=\"dataframe\">\n",
       "  <thead>\n",
       "    <tr style=\"text-align: right;\">\n",
       "      <th></th>\n",
       "      <th>0</th>\n",
       "    </tr>\n",
       "  </thead>\n",
       "  <tbody>\n",
       "    <tr>\n",
       "      <th>0</th>\n",
       "      <td>[#1, \\n, 1, 25000, Artur Kozłowski, Sieradz, P...</td>\n",
       "    </tr>\n",
       "    <tr>\n",
       "      <th>1</th>\n",
       "      <td>[#2, \\n, 2, 24999, Tomasz Szymkowiak, Września...</td>\n",
       "    </tr>\n",
       "    <tr>\n",
       "      <th>2</th>\n",
       "      <td>[#3, \\n, 3, 1858, Dawid Garski, Dąbie, POL, ML...</td>\n",
       "    </tr>\n",
       "  </tbody>\n",
       "</table>\n",
       "</div>"
      ],
      "text/plain": [
       "                                                   0\n",
       "0  [#1, \\n, 1, 25000, Artur Kozłowski, Sieradz, P...\n",
       "1  [#2, \\n, 2, 24999, Tomasz Szymkowiak, Września...\n",
       "2  [#3, \\n, 3, 1858, Dawid Garski, Dąbie, POL, ML..."
      ]
     },
     "execution_count": 196,
     "metadata": {},
     "output_type": "execute_result"
    }
   ],
   "source": [
    "df1 = make_table()\n",
    "df1.head(3)"
   ]
  },
  {
   "cell_type": "markdown",
   "metadata": {},
   "source": [
    "## Data Cleaning "
   ]
  },
  {
   "cell_type": "markdown",
   "metadata": {},
   "source": [
    "Fun part. It is important to be able to deal with messy data, whether that means missing values, inconsistent formatting, <br> malformed records, or nonsensical outliers. The web-scraping result, in this case, HTML is always full of tricky commas and characters. <br> It is the best practice resource for learning data wrangling. In the beginning, we need to create DataFrame with separate columns.  <br> To do this we'll use expand argument inside the split function. "
   ]
  },
  {
   "cell_type": "code",
   "execution_count": 215,
   "metadata": {},
   "outputs": [],
   "source": [
    "df_ooo = df1[0].str.replace(', ', ',')"
   ]
  },
  {
   "cell_type": "code",
   "execution_count": 216,
   "metadata": {},
   "outputs": [],
   "source": [
    "df_ooo = pd.DataFrame(df_ooo) "
   ]
  },
  {
   "cell_type": "code",
   "execution_count": 217,
   "metadata": {},
   "outputs": [],
   "source": [
    "df_ooo = df_ooo[:][0].str.split(',', expand=True)"
   ]
  },
  {
   "cell_type": "markdown",
   "metadata": {},
   "source": [
    "After an investigation, I found tricky comma that broke table structure. Some of the runners included a few Klub names during registration, I assume. \n",
    "<br> I created function that counts commas in single row compare it with proper value (16). \n",
    "<br>  If the value is equal to 17 or 18 function splits row, gets first Klub name and creates a row with 16 commas."
   ]
  },
  {
   "cell_type": "code",
   "execution_count": 218,
   "metadata": {},
   "outputs": [
    {
     "data": {
      "text/html": [
       "<div>\n",
       "<style scoped>\n",
       "    .dataframe tbody tr th:only-of-type {\n",
       "        vertical-align: middle;\n",
       "    }\n",
       "\n",
       "    .dataframe tbody tr th {\n",
       "        vertical-align: top;\n",
       "    }\n",
       "\n",
       "    .dataframe thead th {\n",
       "        text-align: right;\n",
       "    }\n",
       "</style>\n",
       "<table border=\"1\" class=\"dataframe\">\n",
       "  <thead>\n",
       "    <tr style=\"text-align: right;\">\n",
       "      <th></th>\n",
       "      <th>0</th>\n",
       "      <th>1</th>\n",
       "      <th>2</th>\n",
       "      <th>3</th>\n",
       "      <th>4</th>\n",
       "      <th>5</th>\n",
       "      <th>6</th>\n",
       "      <th>7</th>\n",
       "      <th>8</th>\n",
       "      <th>9</th>\n",
       "      <th>10</th>\n",
       "      <th>11</th>\n",
       "      <th>12</th>\n",
       "      <th>13</th>\n",
       "      <th>14</th>\n",
       "      <th>15</th>\n",
       "      <th>16</th>\n",
       "      <th>17</th>\n",
       "      <th>18</th>\n",
       "    </tr>\n",
       "  </thead>\n",
       "  <tbody>\n",
       "    <tr>\n",
       "      <th>0</th>\n",
       "      <td>[#1</td>\n",
       "      <td>\\n</td>\n",
       "      <td>1</td>\n",
       "      <td>25000</td>\n",
       "      <td>Artur Kozłowski</td>\n",
       "      <td>Sieradz</td>\n",
       "      <td>POL</td>\n",
       "      <td>Sanprobi Team</td>\n",
       "      <td>1985</td>\n",
       "      <td>M30</td>\n",
       "      <td>1</td>\n",
       "      <td>1</td>\n",
       "      <td>-</td>\n",
       "      <td>00:15:47</td>\n",
       "      <td>00:31:02</td>\n",
       "      <td>00:31:01]</td>\n",
       "      <td>None</td>\n",
       "      <td>None</td>\n",
       "      <td>None</td>\n",
       "    </tr>\n",
       "    <tr>\n",
       "      <th>1</th>\n",
       "      <td>[#2</td>\n",
       "      <td>\\n</td>\n",
       "      <td>2</td>\n",
       "      <td>24999</td>\n",
       "      <td>Tomasz Szymkowiak</td>\n",
       "      <td>Września</td>\n",
       "      <td>POL</td>\n",
       "      <td>Krispol Active Team Września</td>\n",
       "      <td>1983</td>\n",
       "      <td>M30</td>\n",
       "      <td>2</td>\n",
       "      <td>2</td>\n",
       "      <td>-</td>\n",
       "      <td>00:15:47</td>\n",
       "      <td>00:31:22</td>\n",
       "      <td>00:31:21]</td>\n",
       "      <td>None</td>\n",
       "      <td>None</td>\n",
       "      <td>None</td>\n",
       "    </tr>\n",
       "    <tr>\n",
       "      <th>2</th>\n",
       "      <td>[#3</td>\n",
       "      <td>\\n</td>\n",
       "      <td>3</td>\n",
       "      <td>1858</td>\n",
       "      <td>Dawid Garski</td>\n",
       "      <td>Dąbie</td>\n",
       "      <td>POL</td>\n",
       "      <td>MLKS Baszta Bytów</td>\n",
       "      <td>1995</td>\n",
       "      <td>M20</td>\n",
       "      <td>1</td>\n",
       "      <td>3</td>\n",
       "      <td>-</td>\n",
       "      <td>00:16:21</td>\n",
       "      <td>00:32:33</td>\n",
       "      <td>00:32:32]</td>\n",
       "      <td>None</td>\n",
       "      <td>None</td>\n",
       "      <td>None</td>\n",
       "    </tr>\n",
       "  </tbody>\n",
       "</table>\n",
       "</div>"
      ],
      "text/plain": [
       "    0   1  2      3                  4         5    6   \\\n",
       "0  [#1  \\n  1  25000    Artur Kozłowski   Sieradz  POL   \n",
       "1  [#2  \\n  2  24999  Tomasz Szymkowiak  Września  POL   \n",
       "2  [#3  \\n  3   1858       Dawid Garski     Dąbie  POL   \n",
       "\n",
       "                             7     8    9  10 11 12        13        14  \\\n",
       "0                 Sanprobi Team  1985  M30  1  1  -  00:15:47  00:31:02   \n",
       "1  Krispol Active Team Września  1983  M30  2  2  -  00:15:47  00:31:22   \n",
       "2             MLKS Baszta Bytów  1995  M20  1  3  -  00:16:21  00:32:33   \n",
       "\n",
       "          15    16    17    18  \n",
       "0  00:31:01]  None  None  None  \n",
       "1  00:31:21]  None  None  None  \n",
       "2  00:32:32]  None  None  None  "
      ]
     },
     "execution_count": 218,
     "metadata": {},
     "output_type": "execute_result"
    }
   ],
   "source": [
    "df_ooo.head(3)"
   ]
  },
  {
   "cell_type": "code",
   "execution_count": 219,
   "metadata": {},
   "outputs": [
    {
     "data": {
      "text/plain": [
       "MARATON LESZNO                 1\n",
       "bieg o kulach                  1\n",
       "Akademia Marynarki Wojennej    1\n",
       "WIDOCZNIE LEPSI                1\n",
       "                               1\n",
       "Name: 8, dtype: int64"
      ]
     },
     "execution_count": 219,
     "metadata": {},
     "output_type": "execute_result"
    }
   ],
   "source": [
    "df_ooo[8].value_counts().tail()"
   ]
  },
  {
   "cell_type": "code",
   "execution_count": 220,
   "metadata": {},
   "outputs": [
    {
     "name": "stdout",
     "output_type": "stream",
     "text": [
      "22542\n"
     ]
    }
   ],
   "source": [
    "print(len(df1))"
   ]
  },
  {
   "cell_type": "code",
   "execution_count": 221,
   "metadata": {},
   "outputs": [],
   "source": [
    "def tricky_comma(row):\n",
    "    ''' This function splits row if there are more than 16 comas\n",
    "    and creates right value.\n",
    "    '''\n",
    "    if row.count(',') == 16:\n",
    "        return row.split(',')[:7][:] + row.split(',')[8:][:]\n",
    "    elif row.count(',') == 17:\n",
    "        return row.split(',')[:7][:] + row.split(',')[9:][:]\n",
    "    elif row.count(',') == 18:\n",
    "        return row.split(',')[:7][:] + row.split(',')[10:][:]\n",
    "    else:\n",
    "        return row"
   ]
  },
  {
   "cell_type": "code",
   "execution_count": 222,
   "metadata": {},
   "outputs": [],
   "source": [
    "df2 = df1[0].apply(tricky_comma)"
   ]
  },
  {
   "cell_type": "code",
   "execution_count": 223,
   "metadata": {},
   "outputs": [],
   "source": [
    "df2 = pd.DataFrame(df2)"
   ]
  },
  {
   "cell_type": "code",
   "execution_count": 224,
   "metadata": {},
   "outputs": [],
   "source": [
    "df3 = df2[0].str.replace(', ', ',')"
   ]
  },
  {
   "cell_type": "code",
   "execution_count": 225,
   "metadata": {},
   "outputs": [],
   "source": [
    "df4 = pd.DataFrame(df3)[0].str.split(',' , expand=True)"
   ]
  },
  {
   "cell_type": "code",
   "execution_count": 226,
   "metadata": {},
   "outputs": [
    {
     "data": {
      "text/html": [
       "<div>\n",
       "<style scoped>\n",
       "    .dataframe tbody tr th:only-of-type {\n",
       "        vertical-align: middle;\n",
       "    }\n",
       "\n",
       "    .dataframe tbody tr th {\n",
       "        vertical-align: top;\n",
       "    }\n",
       "\n",
       "    .dataframe thead th {\n",
       "        text-align: right;\n",
       "    }\n",
       "</style>\n",
       "<table border=\"1\" class=\"dataframe\">\n",
       "  <thead>\n",
       "    <tr style=\"text-align: right;\">\n",
       "      <th></th>\n",
       "      <th>0</th>\n",
       "      <th>1</th>\n",
       "      <th>2</th>\n",
       "      <th>3</th>\n",
       "      <th>4</th>\n",
       "      <th>5</th>\n",
       "      <th>6</th>\n",
       "      <th>7</th>\n",
       "      <th>8</th>\n",
       "      <th>9</th>\n",
       "      <th>10</th>\n",
       "      <th>11</th>\n",
       "      <th>12</th>\n",
       "      <th>13</th>\n",
       "      <th>14</th>\n",
       "      <th>15</th>\n",
       "    </tr>\n",
       "  </thead>\n",
       "  <tbody>\n",
       "    <tr>\n",
       "      <th>0</th>\n",
       "      <td>[#1</td>\n",
       "      <td>\\n</td>\n",
       "      <td>1</td>\n",
       "      <td>25000</td>\n",
       "      <td>Artur Kozłowski</td>\n",
       "      <td>Sieradz</td>\n",
       "      <td>POL</td>\n",
       "      <td>Sanprobi Team</td>\n",
       "      <td>1985</td>\n",
       "      <td>M30</td>\n",
       "      <td>1</td>\n",
       "      <td>1</td>\n",
       "      <td>-</td>\n",
       "      <td>00:15:47</td>\n",
       "      <td>00:31:02</td>\n",
       "      <td>00:31:01]</td>\n",
       "    </tr>\n",
       "    <tr>\n",
       "      <th>1</th>\n",
       "      <td>[#2</td>\n",
       "      <td>\\n</td>\n",
       "      <td>2</td>\n",
       "      <td>24999</td>\n",
       "      <td>Tomasz Szymkowiak</td>\n",
       "      <td>Września</td>\n",
       "      <td>POL</td>\n",
       "      <td>Krispol Active Team Września</td>\n",
       "      <td>1983</td>\n",
       "      <td>M30</td>\n",
       "      <td>2</td>\n",
       "      <td>2</td>\n",
       "      <td>-</td>\n",
       "      <td>00:15:47</td>\n",
       "      <td>00:31:22</td>\n",
       "      <td>00:31:21]</td>\n",
       "    </tr>\n",
       "    <tr>\n",
       "      <th>2</th>\n",
       "      <td>[#3</td>\n",
       "      <td>\\n</td>\n",
       "      <td>3</td>\n",
       "      <td>1858</td>\n",
       "      <td>Dawid Garski</td>\n",
       "      <td>Dąbie</td>\n",
       "      <td>POL</td>\n",
       "      <td>MLKS Baszta Bytów</td>\n",
       "      <td>1995</td>\n",
       "      <td>M20</td>\n",
       "      <td>1</td>\n",
       "      <td>3</td>\n",
       "      <td>-</td>\n",
       "      <td>00:16:21</td>\n",
       "      <td>00:32:33</td>\n",
       "      <td>00:32:32]</td>\n",
       "    </tr>\n",
       "  </tbody>\n",
       "</table>\n",
       "</div>"
      ],
      "text/plain": [
       "    0   1  2      3                  4         5    6   \\\n",
       "0  [#1  \\n  1  25000    Artur Kozłowski   Sieradz  POL   \n",
       "1  [#2  \\n  2  24999  Tomasz Szymkowiak  Września  POL   \n",
       "2  [#3  \\n  3   1858       Dawid Garski     Dąbie  POL   \n",
       "\n",
       "                             7     8    9  10 11 12        13        14  \\\n",
       "0                 Sanprobi Team  1985  M30  1  1  -  00:15:47  00:31:02   \n",
       "1  Krispol Active Team Września  1983  M30  2  2  -  00:15:47  00:31:22   \n",
       "2             MLKS Baszta Bytów  1995  M20  1  3  -  00:16:21  00:32:33   \n",
       "\n",
       "          15  \n",
       "0  00:31:01]  \n",
       "1  00:31:21]  \n",
       "2  00:32:32]  "
      ]
     },
     "execution_count": 226,
     "metadata": {},
     "output_type": "execute_result"
    }
   ],
   "source": [
    "df4.head(3)"
   ]
  },
  {
   "cell_type": "markdown",
   "metadata": {},
   "source": [
    "Cleaning proces includes:\n",
    "\n",
    "* Dropping unnecessary characters like '[]#'\n",
    "* Creating columns names\n",
    "* Renaming columns\n",
    "* Dropping unnecessary columns in a DataFrame\n",
    "* Reseting the table's index\n",
    "* Using capitalize() function on columns"
   ]
  },
  {
   "cell_type": "code",
   "execution_count": 227,
   "metadata": {},
   "outputs": [],
   "source": [
    "df4[0] = df4[0].str.strip('[]#')\n",
    "df4[15] = df4[15].str.strip('[]')"
   ]
  },
  {
   "cell_type": "code",
   "execution_count": 228,
   "metadata": {},
   "outputs": [
    {
     "data": {
      "text/html": [
       "<div>\n",
       "<style scoped>\n",
       "    .dataframe tbody tr th:only-of-type {\n",
       "        vertical-align: middle;\n",
       "    }\n",
       "\n",
       "    .dataframe tbody tr th {\n",
       "        vertical-align: top;\n",
       "    }\n",
       "\n",
       "    .dataframe thead th {\n",
       "        text-align: right;\n",
       "    }\n",
       "</style>\n",
       "<table border=\"1\" class=\"dataframe\">\n",
       "  <thead>\n",
       "    <tr style=\"text-align: right;\">\n",
       "      <th></th>\n",
       "      <th>0</th>\n",
       "      <th>1</th>\n",
       "      <th>2</th>\n",
       "      <th>3</th>\n",
       "      <th>4</th>\n",
       "      <th>5</th>\n",
       "      <th>6</th>\n",
       "      <th>7</th>\n",
       "      <th>8</th>\n",
       "      <th>9</th>\n",
       "      <th>10</th>\n",
       "      <th>11</th>\n",
       "      <th>12</th>\n",
       "      <th>13</th>\n",
       "      <th>14</th>\n",
       "      <th>15</th>\n",
       "    </tr>\n",
       "  </thead>\n",
       "  <tbody>\n",
       "    <tr>\n",
       "      <th>0</th>\n",
       "      <td>1</td>\n",
       "      <td>\\n</td>\n",
       "      <td>1</td>\n",
       "      <td>25000</td>\n",
       "      <td>Artur Kozłowski</td>\n",
       "      <td>Sieradz</td>\n",
       "      <td>POL</td>\n",
       "      <td>Sanprobi Team</td>\n",
       "      <td>1985</td>\n",
       "      <td>M30</td>\n",
       "      <td>1</td>\n",
       "      <td>1</td>\n",
       "      <td>-</td>\n",
       "      <td>00:15:47</td>\n",
       "      <td>00:31:02</td>\n",
       "      <td>00:31:01</td>\n",
       "    </tr>\n",
       "    <tr>\n",
       "      <th>1</th>\n",
       "      <td>2</td>\n",
       "      <td>\\n</td>\n",
       "      <td>2</td>\n",
       "      <td>24999</td>\n",
       "      <td>Tomasz Szymkowiak</td>\n",
       "      <td>Września</td>\n",
       "      <td>POL</td>\n",
       "      <td>Krispol Active Team Września</td>\n",
       "      <td>1983</td>\n",
       "      <td>M30</td>\n",
       "      <td>2</td>\n",
       "      <td>2</td>\n",
       "      <td>-</td>\n",
       "      <td>00:15:47</td>\n",
       "      <td>00:31:22</td>\n",
       "      <td>00:31:21</td>\n",
       "    </tr>\n",
       "    <tr>\n",
       "      <th>2</th>\n",
       "      <td>3</td>\n",
       "      <td>\\n</td>\n",
       "      <td>3</td>\n",
       "      <td>1858</td>\n",
       "      <td>Dawid Garski</td>\n",
       "      <td>Dąbie</td>\n",
       "      <td>POL</td>\n",
       "      <td>MLKS Baszta Bytów</td>\n",
       "      <td>1995</td>\n",
       "      <td>M20</td>\n",
       "      <td>1</td>\n",
       "      <td>3</td>\n",
       "      <td>-</td>\n",
       "      <td>00:16:21</td>\n",
       "      <td>00:32:33</td>\n",
       "      <td>00:32:32</td>\n",
       "    </tr>\n",
       "  </tbody>\n",
       "</table>\n",
       "</div>"
      ],
      "text/plain": [
       "  0   1  2      3                  4         5    6   \\\n",
       "0  1  \\n  1  25000    Artur Kozłowski   Sieradz  POL   \n",
       "1  2  \\n  2  24999  Tomasz Szymkowiak  Września  POL   \n",
       "2  3  \\n  3   1858       Dawid Garski     Dąbie  POL   \n",
       "\n",
       "                             7     8    9  10 11 12        13        14  \\\n",
       "0                 Sanprobi Team  1985  M30  1  1  -  00:15:47  00:31:02   \n",
       "1  Krispol Active Team Września  1983  M30  2  2  -  00:15:47  00:31:22   \n",
       "2             MLKS Baszta Bytów  1995  M20  1  3  -  00:16:21  00:32:33   \n",
       "\n",
       "         15  \n",
       "0  00:31:01  \n",
       "1  00:31:21  \n",
       "2  00:32:32  "
      ]
     },
     "execution_count": 228,
     "metadata": {},
     "output_type": "execute_result"
    }
   ],
   "source": [
    "df4.head(3)"
   ]
  },
  {
   "cell_type": "code",
   "execution_count": 229,
   "metadata": {},
   "outputs": [],
   "source": [
    "def get_page(URL):\n",
    "    '''  This function gets 1 argument and return\n",
    "    BeautifulSoup object containing content of the page.    \n",
    "    url - This is the url of website that you want to scrape.\n",
    "    '''\n",
    "    try:\n",
    "        req = urlopen(URL)\n",
    "    except requests.exceptions.RequestException:\n",
    "        return None\n",
    "    \n",
    "    return BeautifulSoup(req.read(), 'lxml')\n",
    "\n",
    "def get_col(URL):\n",
    "    ''' This function gets 1 argument and return\n",
    "    DataFrame containing raw headers of the socre table.    \n",
    "    url - This is the url of website that you want to scrape.\n",
    "    '''\n",
    "    clean_headers = []\n",
    "    page = get_page(URL)\n",
    "    column_names = page.find_all('th')\n",
    "    col_str = str(column_names)\n",
    "    clean_headers.append(BeautifulSoup(col_str, 'lxml').get_text())\n",
    "    \n",
    "    return pd.DataFrame(clean_headers)"
   ]
  },
  {
   "cell_type": "code",
   "execution_count": 230,
   "metadata": {},
   "outputs": [
    {
     "data": {
      "text/html": [
       "<div>\n",
       "<style scoped>\n",
       "    .dataframe tbody tr th:only-of-type {\n",
       "        vertical-align: middle;\n",
       "    }\n",
       "\n",
       "    .dataframe tbody tr th {\n",
       "        vertical-align: top;\n",
       "    }\n",
       "\n",
       "    .dataframe thead th {\n",
       "        text-align: right;\n",
       "    }\n",
       "</style>\n",
       "<table border=\"1\" class=\"dataframe\">\n",
       "  <thead>\n",
       "    <tr style=\"text-align: right;\">\n",
       "      <th></th>\n",
       "      <th>0</th>\n",
       "    </tr>\n",
       "  </thead>\n",
       "  <tbody>\n",
       "    <tr>\n",
       "      <th>0</th>\n",
       "      <td>[\\n\\n\\n\\n, \\n\\n\\n\\n\\n\\n\\n\\n\\n\\n, \\n\\n\\n\\n\\nMsc...</td>\n",
       "    </tr>\n",
       "  </tbody>\n",
       "</table>\n",
       "</div>"
      ],
      "text/plain": [
       "                                                   0\n",
       "0  [\\n\\n\\n\\n, \\n\\n\\n\\n\\n\\n\\n\\n\\n\\n, \\n\\n\\n\\n\\nMsc..."
      ]
     },
     "execution_count": 230,
     "metadata": {},
     "output_type": "execute_result"
    }
   ],
   "source": [
    "columns = get_col(URL)\n",
    "columns"
   ]
  },
  {
   "cell_type": "code",
   "execution_count": 231,
   "metadata": {},
   "outputs": [],
   "source": [
    "columns = columns[0].str.split(',', expand=True)\n",
    "columns.iloc[0] = columns.iloc[0].str.replace('\\n','').str.replace(' ','')"
   ]
  },
  {
   "cell_type": "code",
   "execution_count": 232,
   "metadata": {},
   "outputs": [],
   "source": [
    "frames = [columns, df4]"
   ]
  },
  {
   "cell_type": "code",
   "execution_count": 233,
   "metadata": {},
   "outputs": [],
   "source": [
    "df_table = pd.concat(frames, ignore_index=True)"
   ]
  },
  {
   "cell_type": "code",
   "execution_count": 234,
   "metadata": {},
   "outputs": [
    {
     "data": {
      "text/html": [
       "<div>\n",
       "<style scoped>\n",
       "    .dataframe tbody tr th:only-of-type {\n",
       "        vertical-align: middle;\n",
       "    }\n",
       "\n",
       "    .dataframe tbody tr th {\n",
       "        vertical-align: top;\n",
       "    }\n",
       "\n",
       "    .dataframe thead th {\n",
       "        text-align: right;\n",
       "    }\n",
       "</style>\n",
       "<table border=\"1\" class=\"dataframe\">\n",
       "  <thead>\n",
       "    <tr style=\"text-align: right;\">\n",
       "      <th></th>\n",
       "      <th>0</th>\n",
       "      <th>1</th>\n",
       "      <th>2</th>\n",
       "      <th>3</th>\n",
       "      <th>4</th>\n",
       "      <th>5</th>\n",
       "      <th>6</th>\n",
       "      <th>7</th>\n",
       "      <th>8</th>\n",
       "      <th>9</th>\n",
       "      <th>10</th>\n",
       "      <th>11</th>\n",
       "      <th>12</th>\n",
       "      <th>13</th>\n",
       "      <th>14</th>\n",
       "      <th>15</th>\n",
       "    </tr>\n",
       "  </thead>\n",
       "  <tbody>\n",
       "    <tr>\n",
       "      <th>0</th>\n",
       "      <td>[</td>\n",
       "      <td></td>\n",
       "      <td>Msc</td>\n",
       "      <td>Nr</td>\n",
       "      <td>ImięNazwisko</td>\n",
       "      <td>Miejscowość</td>\n",
       "      <td>Kraj</td>\n",
       "      <td>Klub</td>\n",
       "      <td>Rok</td>\n",
       "      <td>Kat</td>\n",
       "      <td>MiejsceWKat</td>\n",
       "      <td>M</td>\n",
       "      <td>K</td>\n",
       "      <td>5Km</td>\n",
       "      <td>Wynik</td>\n",
       "      <td>Netto]</td>\n",
       "    </tr>\n",
       "    <tr>\n",
       "      <th>1</th>\n",
       "      <td>1</td>\n",
       "      <td>\\n</td>\n",
       "      <td>1</td>\n",
       "      <td>25000</td>\n",
       "      <td>Artur Kozłowski</td>\n",
       "      <td>Sieradz</td>\n",
       "      <td>POL</td>\n",
       "      <td>Sanprobi Team</td>\n",
       "      <td>1985</td>\n",
       "      <td>M30</td>\n",
       "      <td>1</td>\n",
       "      <td>1</td>\n",
       "      <td>-</td>\n",
       "      <td>00:15:47</td>\n",
       "      <td>00:31:02</td>\n",
       "      <td>00:31:01</td>\n",
       "    </tr>\n",
       "    <tr>\n",
       "      <th>2</th>\n",
       "      <td>2</td>\n",
       "      <td>\\n</td>\n",
       "      <td>2</td>\n",
       "      <td>24999</td>\n",
       "      <td>Tomasz Szymkowiak</td>\n",
       "      <td>Września</td>\n",
       "      <td>POL</td>\n",
       "      <td>Krispol Active Team Września</td>\n",
       "      <td>1983</td>\n",
       "      <td>M30</td>\n",
       "      <td>2</td>\n",
       "      <td>2</td>\n",
       "      <td>-</td>\n",
       "      <td>00:15:47</td>\n",
       "      <td>00:31:22</td>\n",
       "      <td>00:31:21</td>\n",
       "    </tr>\n",
       "  </tbody>\n",
       "</table>\n",
       "</div>"
      ],
      "text/plain": [
       "  0   1    2      3                  4            5     6   \\\n",
       "0  [      Msc     Nr       ImięNazwisko  Miejscowość  Kraj   \n",
       "1  1  \\n    1  25000    Artur Kozłowski      Sieradz   POL   \n",
       "2  2  \\n    2  24999  Tomasz Szymkowiak     Września   POL   \n",
       "\n",
       "                             7     8    9            10 11 12        13  \\\n",
       "0                          Klub   Rok  Kat  MiejsceWKat  M  K       5Km   \n",
       "1                 Sanprobi Team  1985  M30            1  1  -  00:15:47   \n",
       "2  Krispol Active Team Września  1983  M30            2  2  -  00:15:47   \n",
       "\n",
       "         14        15  \n",
       "0     Wynik    Netto]  \n",
       "1  00:31:02  00:31:01  \n",
       "2  00:31:22  00:31:21  "
      ]
     },
     "execution_count": 234,
     "metadata": {},
     "output_type": "execute_result"
    }
   ],
   "source": [
    "df_table.head(3)"
   ]
  },
  {
   "cell_type": "code",
   "execution_count": 235,
   "metadata": {},
   "outputs": [],
   "source": [
    "df_table2 = df_table.rename(columns=df_table.iloc[0])"
   ]
  },
  {
   "cell_type": "code",
   "execution_count": 236,
   "metadata": {},
   "outputs": [
    {
     "data": {
      "text/html": [
       "<div>\n",
       "<style scoped>\n",
       "    .dataframe tbody tr th:only-of-type {\n",
       "        vertical-align: middle;\n",
       "    }\n",
       "\n",
       "    .dataframe tbody tr th {\n",
       "        vertical-align: top;\n",
       "    }\n",
       "\n",
       "    .dataframe thead th {\n",
       "        text-align: right;\n",
       "    }\n",
       "</style>\n",
       "<table border=\"1\" class=\"dataframe\">\n",
       "  <thead>\n",
       "    <tr style=\"text-align: right;\">\n",
       "      <th></th>\n",
       "      <th>[</th>\n",
       "      <th></th>\n",
       "      <th>Msc</th>\n",
       "      <th>Nr</th>\n",
       "      <th>ImięNazwisko</th>\n",
       "      <th>Miejscowość</th>\n",
       "      <th>Kraj</th>\n",
       "      <th>Klub</th>\n",
       "      <th>Rok</th>\n",
       "      <th>Kat</th>\n",
       "      <th>MiejsceWKat</th>\n",
       "      <th>M</th>\n",
       "      <th>K</th>\n",
       "      <th>5Km</th>\n",
       "      <th>Wynik</th>\n",
       "      <th>Netto]</th>\n",
       "    </tr>\n",
       "  </thead>\n",
       "  <tbody>\n",
       "    <tr>\n",
       "      <th>0</th>\n",
       "      <td>[</td>\n",
       "      <td></td>\n",
       "      <td>Msc</td>\n",
       "      <td>Nr</td>\n",
       "      <td>ImięNazwisko</td>\n",
       "      <td>Miejscowość</td>\n",
       "      <td>Kraj</td>\n",
       "      <td>Klub</td>\n",
       "      <td>Rok</td>\n",
       "      <td>Kat</td>\n",
       "      <td>MiejsceWKat</td>\n",
       "      <td>M</td>\n",
       "      <td>K</td>\n",
       "      <td>5Km</td>\n",
       "      <td>Wynik</td>\n",
       "      <td>Netto]</td>\n",
       "    </tr>\n",
       "    <tr>\n",
       "      <th>1</th>\n",
       "      <td>1</td>\n",
       "      <td>\\n</td>\n",
       "      <td>1</td>\n",
       "      <td>25000</td>\n",
       "      <td>Artur Kozłowski</td>\n",
       "      <td>Sieradz</td>\n",
       "      <td>POL</td>\n",
       "      <td>Sanprobi Team</td>\n",
       "      <td>1985</td>\n",
       "      <td>M30</td>\n",
       "      <td>1</td>\n",
       "      <td>1</td>\n",
       "      <td>-</td>\n",
       "      <td>00:15:47</td>\n",
       "      <td>00:31:02</td>\n",
       "      <td>00:31:01</td>\n",
       "    </tr>\n",
       "    <tr>\n",
       "      <th>2</th>\n",
       "      <td>2</td>\n",
       "      <td>\\n</td>\n",
       "      <td>2</td>\n",
       "      <td>24999</td>\n",
       "      <td>Tomasz Szymkowiak</td>\n",
       "      <td>Września</td>\n",
       "      <td>POL</td>\n",
       "      <td>Krispol Active Team Września</td>\n",
       "      <td>1983</td>\n",
       "      <td>M30</td>\n",
       "      <td>2</td>\n",
       "      <td>2</td>\n",
       "      <td>-</td>\n",
       "      <td>00:15:47</td>\n",
       "      <td>00:31:22</td>\n",
       "      <td>00:31:21</td>\n",
       "    </tr>\n",
       "  </tbody>\n",
       "</table>\n",
       "</div>"
      ],
      "text/plain": [
       "   [      Msc     Nr       ImięNazwisko  Miejscowość  Kraj  \\\n",
       "0  [      Msc     Nr       ImięNazwisko  Miejscowość  Kraj   \n",
       "1  1  \\n    1  25000    Artur Kozłowski      Sieradz   POL   \n",
       "2  2  \\n    2  24999  Tomasz Szymkowiak     Września   POL   \n",
       "\n",
       "                           Klub   Rok  Kat  MiejsceWKat  M  K       5Km  \\\n",
       "0                          Klub   Rok  Kat  MiejsceWKat  M  K       5Km   \n",
       "1                 Sanprobi Team  1985  M30            1  1  -  00:15:47   \n",
       "2  Krispol Active Team Września  1983  M30            2  2  -  00:15:47   \n",
       "\n",
       "      Wynik    Netto]  \n",
       "0     Wynik    Netto]  \n",
       "1  00:31:02  00:31:01  \n",
       "2  00:31:22  00:31:21  "
      ]
     },
     "execution_count": 236,
     "metadata": {},
     "output_type": "execute_result"
    }
   ],
   "source": [
    "df_table2.head(3)"
   ]
  },
  {
   "cell_type": "code",
   "execution_count": 275,
   "metadata": {},
   "outputs": [],
   "source": [
    "proper_columns = {'[': 'Index', 'Msc': 'Place', 'Nr': 'Number', 'Kraj': 'Country', 'M' : 'Male',\n",
    "                  'ImięNazwisko':'Runner_name', 'Kat':'Category', 'Klub' : 'Club', 'K' : 'Female',\n",
    "                  'Rok' : 'Year', 'MiejsceWKat': 'Place_in_cat', 'Wynik' : 'Score_time',\n",
    "                  'Netto]': 'Netto'}\n",
    "\n",
    "df_table2.rename(columns=proper_columns, inplace=True)"
   ]
  },
  {
   "cell_type": "code",
   "execution_count": 276,
   "metadata": {},
   "outputs": [
    {
     "data": {
      "text/html": [
       "<div>\n",
       "<style scoped>\n",
       "    .dataframe tbody tr th:only-of-type {\n",
       "        vertical-align: middle;\n",
       "    }\n",
       "\n",
       "    .dataframe tbody tr th {\n",
       "        vertical-align: top;\n",
       "    }\n",
       "\n",
       "    .dataframe thead th {\n",
       "        text-align: right;\n",
       "    }\n",
       "</style>\n",
       "<table border=\"1\" class=\"dataframe\">\n",
       "  <thead>\n",
       "    <tr style=\"text-align: right;\">\n",
       "      <th></th>\n",
       "      <th>Index</th>\n",
       "      <th></th>\n",
       "      <th>Place</th>\n",
       "      <th>Number</th>\n",
       "      <th>Runner_name</th>\n",
       "      <th>Miejscowość</th>\n",
       "      <th>Country</th>\n",
       "      <th>Club</th>\n",
       "      <th>Year</th>\n",
       "      <th>Category</th>\n",
       "      <th>Place_in_cat</th>\n",
       "      <th>Male</th>\n",
       "      <th>Female</th>\n",
       "      <th>5Km</th>\n",
       "      <th>Score_time</th>\n",
       "      <th>Netto</th>\n",
       "    </tr>\n",
       "  </thead>\n",
       "  <tbody>\n",
       "    <tr>\n",
       "      <th>0</th>\n",
       "      <td>[</td>\n",
       "      <td></td>\n",
       "      <td>Msc</td>\n",
       "      <td>Nr</td>\n",
       "      <td>ImięNazwisko</td>\n",
       "      <td>Miejscowość</td>\n",
       "      <td>Kraj</td>\n",
       "      <td>Klub</td>\n",
       "      <td>Rok</td>\n",
       "      <td>Kat</td>\n",
       "      <td>MiejsceWKat</td>\n",
       "      <td>M</td>\n",
       "      <td>K</td>\n",
       "      <td>5Km</td>\n",
       "      <td>Wynik</td>\n",
       "      <td>Netto]</td>\n",
       "    </tr>\n",
       "    <tr>\n",
       "      <th>1</th>\n",
       "      <td>1</td>\n",
       "      <td>\\n</td>\n",
       "      <td>1</td>\n",
       "      <td>25000</td>\n",
       "      <td>Artur Kozłowski</td>\n",
       "      <td>Sieradz</td>\n",
       "      <td>POL</td>\n",
       "      <td>Sanprobi Team</td>\n",
       "      <td>1985</td>\n",
       "      <td>M30</td>\n",
       "      <td>1</td>\n",
       "      <td>1</td>\n",
       "      <td>-</td>\n",
       "      <td>00:15:47</td>\n",
       "      <td>00:31:02</td>\n",
       "      <td>00:31:01</td>\n",
       "    </tr>\n",
       "    <tr>\n",
       "      <th>2</th>\n",
       "      <td>2</td>\n",
       "      <td>\\n</td>\n",
       "      <td>2</td>\n",
       "      <td>24999</td>\n",
       "      <td>Tomasz Szymkowiak</td>\n",
       "      <td>Września</td>\n",
       "      <td>POL</td>\n",
       "      <td>Krispol Active Team Września</td>\n",
       "      <td>1983</td>\n",
       "      <td>M30</td>\n",
       "      <td>2</td>\n",
       "      <td>2</td>\n",
       "      <td>-</td>\n",
       "      <td>00:15:47</td>\n",
       "      <td>00:31:22</td>\n",
       "      <td>00:31:21</td>\n",
       "    </tr>\n",
       "  </tbody>\n",
       "</table>\n",
       "</div>"
      ],
      "text/plain": [
       "  Index     Place Number        Runner_name  Miejscowość Country  \\\n",
       "0     [       Msc     Nr       ImięNazwisko  Miejscowość    Kraj   \n",
       "1     1  \\n     1  25000    Artur Kozłowski      Sieradz     POL   \n",
       "2     2  \\n     2  24999  Tomasz Szymkowiak     Września     POL   \n",
       "\n",
       "                           Club  Year Category Place_in_cat Male Female  \\\n",
       "0                          Klub   Rok      Kat  MiejsceWKat    M      K   \n",
       "1                 Sanprobi Team  1985      M30            1    1      -   \n",
       "2  Krispol Active Team Września  1983      M30            2    2      -   \n",
       "\n",
       "        5Km Score_time     Netto  \n",
       "0       5Km      Wynik    Netto]  \n",
       "1  00:15:47   00:31:02  00:31:01  \n",
       "2  00:15:47   00:31:22  00:31:21  "
      ]
     },
     "execution_count": 276,
     "metadata": {},
     "output_type": "execute_result"
    }
   ],
   "source": [
    "df_table2.head(3)"
   ]
  },
  {
   "cell_type": "code",
   "execution_count": 308,
   "metadata": {},
   "outputs": [],
   "source": [
    "df_table3 = df_table2.drop(columns=['Index',''])"
   ]
  },
  {
   "cell_type": "code",
   "execution_count": 309,
   "metadata": {},
   "outputs": [],
   "source": [
    "df_table3.drop(df_table3.index[0], inplace=True)"
   ]
  },
  {
   "cell_type": "code",
   "execution_count": 310,
   "metadata": {},
   "outputs": [
    {
     "data": {
      "text/html": [
       "<div>\n",
       "<style scoped>\n",
       "    .dataframe tbody tr th:only-of-type {\n",
       "        vertical-align: middle;\n",
       "    }\n",
       "\n",
       "    .dataframe tbody tr th {\n",
       "        vertical-align: top;\n",
       "    }\n",
       "\n",
       "    .dataframe thead th {\n",
       "        text-align: right;\n",
       "    }\n",
       "</style>\n",
       "<table border=\"1\" class=\"dataframe\">\n",
       "  <thead>\n",
       "    <tr style=\"text-align: right;\">\n",
       "      <th></th>\n",
       "      <th>Place</th>\n",
       "      <th>Number</th>\n",
       "      <th>Runner_name</th>\n",
       "      <th>Miejscowość</th>\n",
       "      <th>Country</th>\n",
       "      <th>Club</th>\n",
       "      <th>Year</th>\n",
       "      <th>Category</th>\n",
       "      <th>Place_in_cat</th>\n",
       "      <th>Male</th>\n",
       "      <th>Female</th>\n",
       "      <th>5Km</th>\n",
       "      <th>Score_time</th>\n",
       "      <th>Netto</th>\n",
       "    </tr>\n",
       "  </thead>\n",
       "  <tbody>\n",
       "    <tr>\n",
       "      <th>1</th>\n",
       "      <td>1</td>\n",
       "      <td>25000</td>\n",
       "      <td>Artur Kozłowski</td>\n",
       "      <td>Sieradz</td>\n",
       "      <td>POL</td>\n",
       "      <td>Sanprobi Team</td>\n",
       "      <td>1985</td>\n",
       "      <td>M30</td>\n",
       "      <td>1</td>\n",
       "      <td>1</td>\n",
       "      <td>-</td>\n",
       "      <td>00:15:47</td>\n",
       "      <td>00:31:02</td>\n",
       "      <td>00:31:01</td>\n",
       "    </tr>\n",
       "    <tr>\n",
       "      <th>2</th>\n",
       "      <td>2</td>\n",
       "      <td>24999</td>\n",
       "      <td>Tomasz Szymkowiak</td>\n",
       "      <td>Września</td>\n",
       "      <td>POL</td>\n",
       "      <td>Krispol Active Team Września</td>\n",
       "      <td>1983</td>\n",
       "      <td>M30</td>\n",
       "      <td>2</td>\n",
       "      <td>2</td>\n",
       "      <td>-</td>\n",
       "      <td>00:15:47</td>\n",
       "      <td>00:31:22</td>\n",
       "      <td>00:31:21</td>\n",
       "    </tr>\n",
       "    <tr>\n",
       "      <th>3</th>\n",
       "      <td>3</td>\n",
       "      <td>1858</td>\n",
       "      <td>Dawid Garski</td>\n",
       "      <td>Dąbie</td>\n",
       "      <td>POL</td>\n",
       "      <td>MLKS Baszta Bytów</td>\n",
       "      <td>1995</td>\n",
       "      <td>M20</td>\n",
       "      <td>1</td>\n",
       "      <td>3</td>\n",
       "      <td>-</td>\n",
       "      <td>00:16:21</td>\n",
       "      <td>00:32:33</td>\n",
       "      <td>00:32:32</td>\n",
       "    </tr>\n",
       "  </tbody>\n",
       "</table>\n",
       "</div>"
      ],
      "text/plain": [
       "  Place Number        Runner_name Miejscowość Country  \\\n",
       "1     1  25000    Artur Kozłowski     Sieradz     POL   \n",
       "2     2  24999  Tomasz Szymkowiak    Września     POL   \n",
       "3     3   1858       Dawid Garski       Dąbie     POL   \n",
       "\n",
       "                           Club  Year Category Place_in_cat Male Female  \\\n",
       "1                 Sanprobi Team  1985      M30            1    1      -   \n",
       "2  Krispol Active Team Września  1983      M30            2    2      -   \n",
       "3             MLKS Baszta Bytów  1995      M20            1    3      -   \n",
       "\n",
       "        5Km Score_time     Netto  \n",
       "1  00:15:47   00:31:02  00:31:01  \n",
       "2  00:15:47   00:31:22  00:31:21  \n",
       "3  00:16:21   00:32:33  00:32:32  "
      ]
     },
     "execution_count": 310,
     "metadata": {},
     "output_type": "execute_result"
    }
   ],
   "source": [
    "df_table3.head(3)"
   ]
  },
  {
   "cell_type": "code",
   "execution_count": 311,
   "metadata": {},
   "outputs": [
    {
     "data": {
      "text/plain": [
       "M30     5672\n",
       "M40     4116\n",
       "M20     3499\n",
       "K30     2746\n",
       "K20     1956\n",
       "K40     1943\n",
       "M50     1169\n",
       "M16      406\n",
       "K50      346\n",
       "M60      340\n",
       "K16      141\n",
       "K60       69\n",
       "M70+      50\n",
       "K70+       3\n",
       "Name: Category, dtype: int64"
      ]
     },
     "execution_count": 311,
     "metadata": {},
     "output_type": "execute_result"
    }
   ],
   "source": [
    "df_table3['Category'].value_counts()"
   ]
  },
  {
   "cell_type": "code",
   "execution_count": 312,
   "metadata": {},
   "outputs": [],
   "source": [
    "df_table3['Miejscowość'] = df_table3['Miejscowość'].astype(str) "
   ]
  },
  {
   "cell_type": "code",
   "execution_count": 313,
   "metadata": {},
   "outputs": [],
   "source": [
    "df_table3.loc[:,('Miejscowość')] = df_table3.loc[:,('Miejscowość')].apply(lambda x: x.title())"
   ]
  },
  {
   "cell_type": "code",
   "execution_count": 314,
   "metadata": {},
   "outputs": [],
   "source": [
    "df_table3['Male'] = df_table3['Male'].apply(lambda x: 0 if x == '-' else 1)"
   ]
  },
  {
   "cell_type": "code",
   "execution_count": 315,
   "metadata": {},
   "outputs": [],
   "source": [
    "df_table3['Female'] = df_table3['Female'].apply(lambda x: 0 if x == '-' else 1)"
   ]
  },
  {
   "cell_type": "code",
   "execution_count": 425,
   "metadata": {},
   "outputs": [],
   "source": [
    "df_table3['Category'] = df_table3['Category'].apply(lambda x: x[1:])"
   ]
  },
  {
   "cell_type": "code",
   "execution_count": 426,
   "metadata": {},
   "outputs": [
    {
     "data": {
      "text/html": [
       "<div>\n",
       "<style scoped>\n",
       "    .dataframe tbody tr th:only-of-type {\n",
       "        vertical-align: middle;\n",
       "    }\n",
       "\n",
       "    .dataframe tbody tr th {\n",
       "        vertical-align: top;\n",
       "    }\n",
       "\n",
       "    .dataframe thead th {\n",
       "        text-align: right;\n",
       "    }\n",
       "</style>\n",
       "<table border=\"1\" class=\"dataframe\">\n",
       "  <thead>\n",
       "    <tr style=\"text-align: right;\">\n",
       "      <th></th>\n",
       "      <th>Place</th>\n",
       "      <th>Number</th>\n",
       "      <th>Runner_name</th>\n",
       "      <th>Miejscowość</th>\n",
       "      <th>Country</th>\n",
       "      <th>Club</th>\n",
       "      <th>Year</th>\n",
       "      <th>Category</th>\n",
       "      <th>Place_in_cat</th>\n",
       "      <th>Male</th>\n",
       "      <th>Female</th>\n",
       "      <th>5Km</th>\n",
       "      <th>Score_time</th>\n",
       "      <th>Netto</th>\n",
       "      <th>Runner_mins</th>\n",
       "    </tr>\n",
       "  </thead>\n",
       "  <tbody>\n",
       "    <tr>\n",
       "      <th>1</th>\n",
       "      <td>1</td>\n",
       "      <td>25000</td>\n",
       "      <td>Artur Kozłowski</td>\n",
       "      <td>Sieradz</td>\n",
       "      <td>POL</td>\n",
       "      <td>Sanprobi Team</td>\n",
       "      <td>1985</td>\n",
       "      <td>30</td>\n",
       "      <td>1</td>\n",
       "      <td>1</td>\n",
       "      <td>0</td>\n",
       "      <td>00:15:47</td>\n",
       "      <td>00:31:02</td>\n",
       "      <td>00:31:01</td>\n",
       "      <td>31.033333</td>\n",
       "    </tr>\n",
       "    <tr>\n",
       "      <th>2</th>\n",
       "      <td>2</td>\n",
       "      <td>24999</td>\n",
       "      <td>Tomasz Szymkowiak</td>\n",
       "      <td>Września</td>\n",
       "      <td>POL</td>\n",
       "      <td>Krispol Active Team Września</td>\n",
       "      <td>1983</td>\n",
       "      <td>30</td>\n",
       "      <td>2</td>\n",
       "      <td>1</td>\n",
       "      <td>0</td>\n",
       "      <td>00:15:47</td>\n",
       "      <td>00:31:22</td>\n",
       "      <td>00:31:21</td>\n",
       "      <td>31.366667</td>\n",
       "    </tr>\n",
       "    <tr>\n",
       "      <th>3</th>\n",
       "      <td>3</td>\n",
       "      <td>1858</td>\n",
       "      <td>Dawid Garski</td>\n",
       "      <td>Dąbie</td>\n",
       "      <td>POL</td>\n",
       "      <td>MLKS Baszta Bytów</td>\n",
       "      <td>1995</td>\n",
       "      <td>20</td>\n",
       "      <td>1</td>\n",
       "      <td>1</td>\n",
       "      <td>0</td>\n",
       "      <td>00:16:21</td>\n",
       "      <td>00:32:33</td>\n",
       "      <td>00:32:32</td>\n",
       "      <td>32.550000</td>\n",
       "    </tr>\n",
       "    <tr>\n",
       "      <th>4</th>\n",
       "      <td>4</td>\n",
       "      <td>22947</td>\n",
       "      <td>Adrian Bednarek</td>\n",
       "      <td>Bydgoszcz</td>\n",
       "      <td>POL</td>\n",
       "      <td>—</td>\n",
       "      <td>1990</td>\n",
       "      <td>20</td>\n",
       "      <td>2</td>\n",
       "      <td>1</td>\n",
       "      <td>0</td>\n",
       "      <td>00:16:37</td>\n",
       "      <td>00:32:38</td>\n",
       "      <td>00:32:37</td>\n",
       "      <td>32.633333</td>\n",
       "    </tr>\n",
       "    <tr>\n",
       "      <th>5</th>\n",
       "      <td>5</td>\n",
       "      <td>23974</td>\n",
       "      <td>Krzysztof Jilek</td>\n",
       "      <td>Bystrzyca Kłodzka</td>\n",
       "      <td>POL</td>\n",
       "      <td>Ulks Bystrzyca Kłodzka/FIZJOTERAPEUTY/Biegi Śn...</td>\n",
       "      <td>1997</td>\n",
       "      <td>20</td>\n",
       "      <td>3</td>\n",
       "      <td>1</td>\n",
       "      <td>0</td>\n",
       "      <td>00:16:38</td>\n",
       "      <td>00:32:55</td>\n",
       "      <td>00:32:54</td>\n",
       "      <td>32.916667</td>\n",
       "    </tr>\n",
       "    <tr>\n",
       "      <th>6</th>\n",
       "      <td>6</td>\n",
       "      <td>17330</td>\n",
       "      <td>Paweł Młodzikowski</td>\n",
       "      <td>Adamów</td>\n",
       "      <td>POL</td>\n",
       "      <td>Kb V-MAX Adamów</td>\n",
       "      <td>1987</td>\n",
       "      <td>30</td>\n",
       "      <td>3</td>\n",
       "      <td>1</td>\n",
       "      <td>0</td>\n",
       "      <td>00:16:41</td>\n",
       "      <td>00:33:34</td>\n",
       "      <td>00:33:33</td>\n",
       "      <td>33.566667</td>\n",
       "    </tr>\n",
       "    <tr>\n",
       "      <th>7</th>\n",
       "      <td>7</td>\n",
       "      <td>18319</td>\n",
       "      <td>Paweł Raczyński</td>\n",
       "      <td>Krosno Odrzańskie</td>\n",
       "      <td>POL</td>\n",
       "      <td>5 kresowy batalion saperów Krosno Odrzańskie</td>\n",
       "      <td>1990</td>\n",
       "      <td>20</td>\n",
       "      <td>4</td>\n",
       "      <td>1</td>\n",
       "      <td>0</td>\n",
       "      <td>00:16:41</td>\n",
       "      <td>00:33:37</td>\n",
       "      <td>00:33:36</td>\n",
       "      <td>33.616667</td>\n",
       "    </tr>\n",
       "  </tbody>\n",
       "</table>\n",
       "</div>"
      ],
      "text/plain": [
       "  Place Number         Runner_name        Miejscowość Country  \\\n",
       "1     1  25000     Artur Kozłowski            Sieradz     POL   \n",
       "2     2  24999   Tomasz Szymkowiak           Września     POL   \n",
       "3     3   1858        Dawid Garski              Dąbie     POL   \n",
       "4     4  22947     Adrian Bednarek          Bydgoszcz     POL   \n",
       "5     5  23974     Krzysztof Jilek  Bystrzyca Kłodzka     POL   \n",
       "6     6  17330  Paweł Młodzikowski             Adamów     POL   \n",
       "7     7  18319     Paweł Raczyński  Krosno Odrzańskie     POL   \n",
       "\n",
       "                                                Club  Year Category  \\\n",
       "1                                      Sanprobi Team  1985       30   \n",
       "2                       Krispol Active Team Września  1983       30   \n",
       "3                                  MLKS Baszta Bytów  1995       20   \n",
       "4                                                  —  1990       20   \n",
       "5  Ulks Bystrzyca Kłodzka/FIZJOTERAPEUTY/Biegi Śn...  1997       20   \n",
       "6                                    Kb V-MAX Adamów  1987       30   \n",
       "7       5 kresowy batalion saperów Krosno Odrzańskie  1990       20   \n",
       "\n",
       "  Place_in_cat  Male  Female       5Km Score_time     Netto  Runner_mins  \n",
       "1            1     1       0  00:15:47   00:31:02  00:31:01    31.033333  \n",
       "2            2     1       0  00:15:47   00:31:22  00:31:21    31.366667  \n",
       "3            1     1       0  00:16:21   00:32:33  00:32:32    32.550000  \n",
       "4            2     1       0  00:16:37   00:32:38  00:32:37    32.633333  \n",
       "5            3     1       0  00:16:38   00:32:55  00:32:54    32.916667  \n",
       "6            3     1       0  00:16:41   00:33:34  00:33:33    33.566667  \n",
       "7            4     1       0  00:16:41   00:33:37  00:33:36    33.616667  "
      ]
     },
     "execution_count": 426,
     "metadata": {},
     "output_type": "execute_result"
    }
   ],
   "source": [
    "df_table3.head(7)"
   ]
  },
  {
   "cell_type": "code",
   "execution_count": 427,
   "metadata": {},
   "outputs": [],
   "source": [
    "males = df_table3[df_table3['Male'] == 1]\n",
    "females = df_table3[df_table3['Female'] == 1]"
   ]
  },
  {
   "cell_type": "markdown",
   "metadata": {},
   "source": [
    "## Memory usage optimalization"
   ]
  },
  {
   "cell_type": "markdown",
   "metadata": {},
   "source": [
    "I wrote a loop to iterate over each object column, check if the number of unique values is less than 50%, and if so, convert it to the category type.\n",
    "<br> We've gone from 18.3 MB of memory usage to 7.4 MB of memory usage, or a 60% reduction! "
   ]
  },
  {
   "cell_type": "code",
   "execution_count": 428,
   "metadata": {},
   "outputs": [
    {
     "name": "stdout",
     "output_type": "stream",
     "text": [
      "<class 'pandas.core.frame.DataFrame'>\n",
      "Int64Index: 22456 entries, 1 to 22542\n",
      "Data columns (total 15 columns):\n",
      "Place           22456 non-null object\n",
      "Number          22456 non-null object\n",
      "Runner_name     22456 non-null object\n",
      "Miejscowość     22456 non-null object\n",
      "Country         22456 non-null object\n",
      "Club            22456 non-null object\n",
      "Year            22456 non-null object\n",
      "Category        22456 non-null object\n",
      "Place_in_cat    22456 non-null object\n",
      "Male            22456 non-null int64\n",
      "Female          22456 non-null int64\n",
      "5Km             22456 non-null object\n",
      "Score_time      22456 non-null object\n",
      "Netto           22456 non-null object\n",
      "Runner_mins     22456 non-null float64\n",
      "dtypes: float64(1), int64(2), object(12)\n",
      "memory usage: 18.5 MB\n"
     ]
    }
   ],
   "source": [
    "df_table3 = df_table3.dropna()\n",
    "df_table3.info(memory_usage='deep')"
   ]
  },
  {
   "cell_type": "markdown",
   "metadata": {},
   "source": [
    "I needed to convert the list back into a dataframe and make a new column (\"Runner_mins\") for runner chip times expressed in just minutes."
   ]
  },
  {
   "cell_type": "code",
   "execution_count": 429,
   "metadata": {},
   "outputs": [],
   "source": [
    "mins = df_table3['Score_time'].dropna().tolist()\n",
    "\n",
    "time_mins = []\n",
    "for i in mins:\n",
    "    h, m, s = i.split(':')\n",
    "    math = (int(h) * 3600 + int(m) * 60 + int(s))/60\n",
    "    time_mins.append(math)\n",
    "\n",
    "df_table3['Runner_mins'] = time_mins"
   ]
  },
  {
   "cell_type": "code",
   "execution_count": 430,
   "metadata": {},
   "outputs": [
    {
     "data": {
      "text/html": [
       "<div>\n",
       "<style scoped>\n",
       "    .dataframe tbody tr th:only-of-type {\n",
       "        vertical-align: middle;\n",
       "    }\n",
       "\n",
       "    .dataframe tbody tr th {\n",
       "        vertical-align: top;\n",
       "    }\n",
       "\n",
       "    .dataframe thead th {\n",
       "        text-align: right;\n",
       "    }\n",
       "</style>\n",
       "<table border=\"1\" class=\"dataframe\">\n",
       "  <thead>\n",
       "    <tr style=\"text-align: right;\">\n",
       "      <th></th>\n",
       "      <th>Place</th>\n",
       "      <th>Number</th>\n",
       "      <th>Runner_name</th>\n",
       "      <th>Miejscowość</th>\n",
       "      <th>Country</th>\n",
       "      <th>Club</th>\n",
       "      <th>Year</th>\n",
       "      <th>Category</th>\n",
       "      <th>Place_in_cat</th>\n",
       "      <th>Male</th>\n",
       "      <th>Female</th>\n",
       "      <th>5Km</th>\n",
       "      <th>Score_time</th>\n",
       "      <th>Netto</th>\n",
       "      <th>Runner_mins</th>\n",
       "    </tr>\n",
       "  </thead>\n",
       "  <tbody>\n",
       "    <tr>\n",
       "      <th>1</th>\n",
       "      <td>1</td>\n",
       "      <td>25000</td>\n",
       "      <td>Artur Kozłowski</td>\n",
       "      <td>Sieradz</td>\n",
       "      <td>POL</td>\n",
       "      <td>Sanprobi Team</td>\n",
       "      <td>1985</td>\n",
       "      <td>30</td>\n",
       "      <td>1</td>\n",
       "      <td>1</td>\n",
       "      <td>0</td>\n",
       "      <td>00:15:47</td>\n",
       "      <td>00:31:02</td>\n",
       "      <td>00:31:01</td>\n",
       "      <td>31.033333</td>\n",
       "    </tr>\n",
       "    <tr>\n",
       "      <th>2</th>\n",
       "      <td>2</td>\n",
       "      <td>24999</td>\n",
       "      <td>Tomasz Szymkowiak</td>\n",
       "      <td>Września</td>\n",
       "      <td>POL</td>\n",
       "      <td>Krispol Active Team Września</td>\n",
       "      <td>1983</td>\n",
       "      <td>30</td>\n",
       "      <td>2</td>\n",
       "      <td>1</td>\n",
       "      <td>0</td>\n",
       "      <td>00:15:47</td>\n",
       "      <td>00:31:22</td>\n",
       "      <td>00:31:21</td>\n",
       "      <td>31.366667</td>\n",
       "    </tr>\n",
       "    <tr>\n",
       "      <th>3</th>\n",
       "      <td>3</td>\n",
       "      <td>1858</td>\n",
       "      <td>Dawid Garski</td>\n",
       "      <td>Dąbie</td>\n",
       "      <td>POL</td>\n",
       "      <td>MLKS Baszta Bytów</td>\n",
       "      <td>1995</td>\n",
       "      <td>20</td>\n",
       "      <td>1</td>\n",
       "      <td>1</td>\n",
       "      <td>0</td>\n",
       "      <td>00:16:21</td>\n",
       "      <td>00:32:33</td>\n",
       "      <td>00:32:32</td>\n",
       "      <td>32.550000</td>\n",
       "    </tr>\n",
       "  </tbody>\n",
       "</table>\n",
       "</div>"
      ],
      "text/plain": [
       "  Place Number        Runner_name Miejscowość Country  \\\n",
       "1     1  25000    Artur Kozłowski     Sieradz     POL   \n",
       "2     2  24999  Tomasz Szymkowiak    Września     POL   \n",
       "3     3   1858       Dawid Garski       Dąbie     POL   \n",
       "\n",
       "                           Club  Year Category Place_in_cat  Male  Female  \\\n",
       "1                 Sanprobi Team  1985       30            1     1       0   \n",
       "2  Krispol Active Team Września  1983       30            2     1       0   \n",
       "3             MLKS Baszta Bytów  1995       20            1     1       0   \n",
       "\n",
       "        5Km Score_time     Netto  Runner_mins  \n",
       "1  00:15:47   00:31:02  00:31:01    31.033333  \n",
       "2  00:15:47   00:31:22  00:31:21    31.366667  \n",
       "3  00:16:21   00:32:33  00:32:32    32.550000  "
      ]
     },
     "execution_count": 430,
     "metadata": {},
     "output_type": "execute_result"
    }
   ],
   "source": [
    "df_table3.head(3)"
   ]
  },
  {
   "cell_type": "code",
   "execution_count": 431,
   "metadata": {},
   "outputs": [],
   "source": [
    "converted_obj = pd.DataFrame()\n",
    "\n",
    "for col in df_table3.columns:\n",
    "    num_unique_values = len(df_table3[col].unique())\n",
    "    num_total_values = len(df_table3[col])\n",
    "    if num_unique_values / num_total_values < 0.5:\n",
    "        converted_obj.loc[:,col] = df_table3[col].astype('category')\n",
    "    else:\n",
    "        converted_obj.loc[:,col] = df_table3[col]"
   ]
  },
  {
   "cell_type": "code",
   "execution_count": 432,
   "metadata": {},
   "outputs": [
    {
     "name": "stdout",
     "output_type": "stream",
     "text": [
      "<class 'pandas.core.frame.DataFrame'>\n",
      "Int64Index: 22456 entries, 1 to 22542\n",
      "Data columns (total 15 columns):\n",
      "Place           22456 non-null object\n",
      "Number          22456 non-null object\n",
      "Runner_name     22456 non-null object\n",
      "Miejscowość     22456 non-null category\n",
      "Country         22456 non-null category\n",
      "Club            22456 non-null category\n",
      "Year            22456 non-null category\n",
      "Category        22456 non-null category\n",
      "Place_in_cat    22456 non-null category\n",
      "Male            22456 non-null category\n",
      "Female          22456 non-null category\n",
      "5Km             22456 non-null category\n",
      "Score_time      22456 non-null category\n",
      "Netto           22456 non-null category\n",
      "Runner_mins     22456 non-null category\n",
      "dtypes: category(12), object(3)\n",
      "memory usage: 7.8 MB\n"
     ]
    }
   ],
   "source": [
    "converted_obj.info(memory_usage='deep')"
   ]
  },
  {
   "cell_type": "code",
   "execution_count": 433,
   "metadata": {},
   "outputs": [],
   "source": [
    "start_mem_usg = df_table3.memory_usage(deep=True).sum() / 1024**2\n",
    "mem_usg = converted_obj.memory_usage(deep=True).sum() / 1024**2"
   ]
  },
  {
   "cell_type": "code",
   "execution_count": 434,
   "metadata": {},
   "outputs": [
    {
     "name": "stdout",
     "output_type": "stream",
     "text": [
      "This is  41.94 % of the initial size.\n"
     ]
    }
   ],
   "source": [
    "print(\"This is \",100* round(mem_usg/start_mem_usg,4) ,\"% of the initial size.\")"
   ]
  },
  {
   "cell_type": "markdown",
   "metadata": {},
   "source": [
    "# Data Analysis and Visualization"
   ]
  },
  {
   "cell_type": "markdown",
   "metadata": {},
   "source": [
    "Now, let's answer questions that I asked at the beginning.\n",
    "1. > What is the average, minimal, maximal finish time for the participants?"
   ]
  },
  {
   "cell_type": "code",
   "execution_count": 435,
   "metadata": {},
   "outputs": [
    {
     "data": {
      "text/html": [
       "<div>\n",
       "<style scoped>\n",
       "    .dataframe tbody tr th:only-of-type {\n",
       "        vertical-align: middle;\n",
       "    }\n",
       "\n",
       "    .dataframe tbody tr th {\n",
       "        vertical-align: top;\n",
       "    }\n",
       "\n",
       "    .dataframe thead th {\n",
       "        text-align: right;\n",
       "    }\n",
       "</style>\n",
       "<table border=\"1\" class=\"dataframe\">\n",
       "  <thead>\n",
       "    <tr style=\"text-align: right;\">\n",
       "      <th></th>\n",
       "      <th>Runner_mins</th>\n",
       "    </tr>\n",
       "  </thead>\n",
       "  <tbody>\n",
       "    <tr>\n",
       "      <th>count</th>\n",
       "      <td>22456.000000</td>\n",
       "    </tr>\n",
       "    <tr>\n",
       "      <th>mean</th>\n",
       "      <td>84.345481</td>\n",
       "    </tr>\n",
       "    <tr>\n",
       "      <th>std</th>\n",
       "      <td>23.594377</td>\n",
       "    </tr>\n",
       "    <tr>\n",
       "      <th>min</th>\n",
       "      <td>31.033333</td>\n",
       "    </tr>\n",
       "    <tr>\n",
       "      <th>25%</th>\n",
       "      <td>65.066667</td>\n",
       "    </tr>\n",
       "    <tr>\n",
       "      <th>50%</th>\n",
       "      <td>85.783333</td>\n",
       "    </tr>\n",
       "    <tr>\n",
       "      <th>75%</th>\n",
       "      <td>103.920833</td>\n",
       "    </tr>\n",
       "    <tr>\n",
       "      <th>max</th>\n",
       "      <td>147.950000</td>\n",
       "    </tr>\n",
       "  </tbody>\n",
       "</table>\n",
       "</div>"
      ],
      "text/plain": [
       "        Runner_mins\n",
       "count  22456.000000\n",
       "mean      84.345481\n",
       "std       23.594377\n",
       "min       31.033333\n",
       "25%       65.066667\n",
       "50%       85.783333\n",
       "75%      103.920833\n",
       "max      147.950000"
      ]
     },
     "execution_count": 435,
     "metadata": {},
     "output_type": "execute_result"
    }
   ],
   "source": [
    "df_table3['Runner_mins'].describe(include=[np.number]).to_frame()"
   ]
  },
  {
   "cell_type": "markdown",
   "metadata": {},
   "source": [
    "The average running time for all runners was ~85 mins. <br> The fastest runner finished 5km in 36 mins, and the slowest runner finished race in 148 minutes."
   ]
  },
  {
   "cell_type": "markdown",
   "metadata": {},
   "source": [
    "2. > Did the participants finish times follow a normal distribution?"
   ]
  },
  {
   "cell_type": "code",
   "execution_count": 436,
   "metadata": {},
   "outputs": [
    {
     "name": "stderr",
     "output_type": "stream",
     "text": [
      "/anaconda3/lib/python3.6/site-packages/scipy/stats/stats.py:1713: FutureWarning:\n",
      "\n",
      "Using a non-tuple sequence for multidimensional indexing is deprecated; use `arr[tuple(seq)]` instead of `arr[seq]`. In the future this will be interpreted as an array index, `arr[np.array(seq)]`, which will result either in an error or a different result.\n",
      "\n"
     ]
    },
    {
     "data": {
      "image/png": "[encoded data removed]",
      "text/plain": [
       "<Figure size 1080x360 with 1 Axes>"
      ]
     },
     "metadata": {
      "needs_background": "light"
     },
     "output_type": "display_data"
    },
    {
     "data": {
      "image/png": "[encoded data removed]",
      "text/plain": [
       "<Figure size 1080x360 with 1 Axes>"
      ]
     },
     "metadata": {
      "needs_background": "light"
     },
     "output_type": "display_data"
    }
   ],
   "source": [
    "from pylab import rcParams\n",
    "rcParams['figure.figsize'] = 15, 5\n",
    "\n",
    "\n",
    "for x in 'Male Female'.split(' '):\n",
    "    k = df_table3[df_table3[str(x)] == 1]['Runner_mins']\n",
    "    ax = sns.distplot(k, hist=True, kde=True, rug=False, color='g', bins=35, hist_kws={'edgecolor':'black'})\n",
    "    plt.show()"
   ]
  },
  {
   "cell_type": "markdown",
   "metadata": {},
   "source": [
    "As we can see the distribution looks almost normal for males and females."
   ]
  },
  {
   "cell_type": "markdown",
   "metadata": {},
   "source": [
    "3. > What are differences between males and females results along various age groups?"
   ]
  },
  {
   "cell_type": "code",
   "execution_count": 451,
   "metadata": {},
   "outputs": [
    {
     "name": "stderr",
     "output_type": "stream",
     "text": [
      "/anaconda3/lib/python3.6/site-packages/IPython/core/display.py:689: UserWarning:\n",
      "\n",
      "Consider using IPython.display.IFrame instead\n",
      "\n"
     ]
    },
    {
     "data": {
      "text/html": [
       "<iframe id=\"igraph\" scrolling=\"no\" style=\"border:none;\" seamless=\"seamless\" src=\"https://plot.ly/~damiannklis/2.embed\" height=\"525px\" width=\"100%\"></iframe>"
      ],
      "text/plain": [
       "<plotly.tools.PlotlyDisplay object>"
      ]
     },
     "execution_count": 451,
     "metadata": {},
     "output_type": "execute_result"
    }
   ],
   "source": [
    "import plotly.plotly as py\n",
    "import plotly.graph_objs as go\n",
    "\n",
    "\n",
    "fig = {\n",
    "  \"data\": [\n",
    "    {\n",
    "      \"values\": males['Category'].value_counts(),\n",
    "      \"labels\": list(dict(df_table3[df_table3['Male'] == 1]['Category'].value_counts()).keys()),\n",
    "      \"domain\": {\"x\": [0, .48]},\n",
    "      \"name\": \"Males\",\n",
    "      \"hoverinfo\":\"label+percent+name\",\n",
    "      \"hole\": .4,\n",
    "      \"type\": \"pie\"\n",
    "    },\n",
    "    {\n",
    "      \"values\": females['Category'].value_counts(),\n",
    "      \"labels\": list(dict(df_table3[df_table3['Female'] == 1]['Category'].value_counts()).keys()),\n",
    "      \"textposition\":\"inside\",\n",
    "      \"domain\": {\"x\": [.52, 1]},\n",
    "      \"name\": \"Females\",\n",
    "      \"hoverinfo\":\"label+percent+name\",\n",
    "      \"hole\": .4,\n",
    "      \"type\": \"pie\"\n",
    "    }],\n",
    "  \"layout\": {\n",
    "        \"title\":\"Category percentage share\",\n",
    "        \"annotations\": [\n",
    "            {\n",
    "                \"font\": {\"size\": 20},\n",
    "                \"showarrow\": False,\n",
    "                \"text\": \"Males\",\n",
    "                \"x\": 0.20,\n",
    "                \"y\": 0.5\n",
    "            },\n",
    "            {\n",
    "                \"font\": {\"size\": 20},\n",
    "                \"showarrow\": False,\n",
    "                \"text\": \"Females\",\n",
    "                \"x\": 0.81,\n",
    "                \"y\": 0.5\n",
    "            }\n",
    "        ]\n",
    "    }\n",
    "}\n",
    "py.iplot(fig, filename='donut')"
   ]
  },
  {
   "cell_type": "markdown",
   "metadata": {},
   "source": [
    "<br> These pie charts are prepared using plot.ly - one of my favourites visualisation libraries.\n",
    "<br> The category percentage share is similar in both cases (male, female). The most numerous group is 30+ years old.\n",
    "<br> The second most numerous group is different in both cases, for men, it is 40+  years old and for women, it is 20+ years old. "
   ]
  },
  {
   "cell_type": "code",
   "execution_count": 1,
   "metadata": {},
   "outputs": [
    {
     "data": {
      "text/plain": [
       "<Figure size 640x480 with 1 Axes>"
      ]
     },
     "metadata": {},
     "output_type": "display_data"
    }
   ],
   "source": [
    "import numpy as np\n",
    "import matplotlib.pyplot as plt\n",
    "import pylab\n",
    "import math\n",
    " \n",
    " \n",
    "ax = plt.axes(polar=True)\n",
    "#r - wartosci natezen mierzonych\n",
    " \n",
    "r = np.array([2.9,2.7,2.3,1.6,1.1,0.6,0.1,0.0,0.0,0.0,0.2,0.7,1.2,1.8,2.3,2.6,2.8,2.8,2.8,2.5,2.0,1.6,1.0,0.5,0.1,0.0,0.0,0.0,0.2,0.6,1.1,1.6,2.1,2.5,2.7,2.7,2.9])\n",
    "theta = 2*np.pi/360 * np.array(list(range(0, 370, 10)))\n",
    " \n",
    "tablica=[]\n",
    "tablica2=[]\n",
    "for a in range(0,361,1):\n",
    "    cos=2.9*pow(math.cos(math.radians(a)),2)\n",
    "    tablica.append(cos)\n",
    " \n",
    "angles=np.array(tablica)\n",
    " \n",
    "for b in range(0,370,10):\n",
    "    cos2=2.9*pow(math.cos(math.radians(b)),2)\n",
    "    tablica2.append(cos2)\n",
    " \n",
    "angles=np.array(tablica)\n",
    "points=np.array(tablica2)\n",
    "#r_2 - wartosci natezen wyliczonych\n",
    "r_2 = np.array([angles])\n",
    "                   \n",
    "theta_2 = 2*np.pi/360 * np.array(list(range(0, 361, 1)))\n",
    "ax.plot(theta, r, color='green', linestyle='None', label=\"E[lx]\")\n",
    "ax.errorbar(theta, r, xerr=0.013, yerr=0.0577)\n",
    "ax.plot(theta_2, angles, color=\"blue\", label=\"E_obl[lx]\")\n",
    " \n",
    "ax.set_title(\"Wykresy E i E_obl\", va='bottom', fontsize=24)\n",
    "pylab.legend(loc='lower right', prop={'size': 13})\n",
    "plt.show()"
   ]
  },
  {
   "cell_type": "code",
   "execution_count": null,
   "metadata": {},
   "outputs": [],
   "source": []
  }
 ],
 "metadata": {
  "kernelspec": {
   "display_name": "Python 3",
   "language": "python",
   "name": "python3"
  },
  "language_info": {
   "codemirror_mode": {
    "name": "ipython",
    "version": 3
   },
   "file_extension": ".py",
   "mimetype": "text/x-python",
   "name": "python",
   "nbconvert_exporter": "python",
   "pygments_lexer": "ipython3",
   "version": "3.6.6"
  }
 },
 "nbformat": 4,
 "nbformat_minor": 2
}
